{
  "nbformat": 4,
  "nbformat_minor": 0,
  "metadata": {
    "colab": {
      "name": "cheminfo_in_python.ipynb",
      "provenance": [],
      "authorship_tag": "ABX9TyO2khcXbV8xS7OTAu5XN7hs",
      "include_colab_link": true
    },
    "kernelspec": {
      "name": "python3",
      "display_name": "Python 3"
    },
    "language_info": {
      "name": "python"
    }
  },
  "cells": [
    {
      "cell_type": "markdown",
      "metadata": {
        "id": "view-in-github",
        "colab_type": "text"
      },
      "source": [
        "<a href=\"https://colab.research.google.com/github/youngmook/cheminfo-python/blob/main/cheminfo_in_python.ipynb\" target=\"_parent\"><img src=\"https://colab.research.google.com/assets/colab-badge.svg\" alt=\"Open In Colab\"/></a>"
      ]
    },
    {
      "cell_type": "markdown",
      "source": [
        "## RDKit (Cheminformatics tool) 설치"
      ],
      "metadata": {
        "id": "sKljWzi3rRCI"
      }
    },
    {
      "cell_type": "code",
      "source": [
        "!pip install rdkit-pypi"
      ],
      "metadata": {
        "id": "rbL0EF2zphv6",
        "outputId": "5fb92bac-38c6-4e02-f443-571102a3deb7",
        "colab": {
          "base_uri": "https://localhost:8080/"
        }
      },
      "execution_count": 5,
      "outputs": [
        {
          "output_type": "stream",
          "name": "stdout",
          "text": [
            "Looking in indexes: https://pypi.org/simple, https://us-python.pkg.dev/colab-wheels/public/simple/\n",
            "Collecting rdkit-pypi\n",
            "  Downloading rdkit_pypi-2022.9.5-cp39-cp39-manylinux_2_17_x86_64.manylinux2014_x86_64.whl (29.4 MB)\n",
            "\u001b[2K     \u001b[90m━━━━━━━━━━━━━━━━━━━━━━━━━━━━━━━━━━━━━━━━\u001b[0m \u001b[32m29.4/29.4 MB\u001b[0m \u001b[31m49.2 MB/s\u001b[0m eta \u001b[36m0:00:00\u001b[0m\n",
            "\u001b[?25hRequirement already satisfied: Pillow in /usr/local/lib/python3.9/dist-packages (from rdkit-pypi) (8.4.0)\n",
            "Requirement already satisfied: numpy in /usr/local/lib/python3.9/dist-packages (from rdkit-pypi) (1.22.4)\n",
            "Installing collected packages: rdkit-pypi\n",
            "Successfully installed rdkit-pypi-2022.9.5\n"
          ]
        }
      ]
    },
    {
      "cell_type": "markdown",
      "source": [
        "## RDKit 불러오기\n"
      ],
      "metadata": {
        "id": "azGOSCVm_ZZD"
      }
    },
    {
      "cell_type": "code",
      "source": [
        "from rdkit import Chem\n",
        "from rdkit.Chem import AllChem\n",
        "from rdkit.Chem.Draw import IPythonConsole"
      ],
      "metadata": {
        "id": "eD7mwiUHph-v"
      },
      "execution_count": 6,
      "outputs": []
    },
    {
      "cell_type": "markdown",
      "source": [
        "## MDL Mol 파일을 읽고 쓰기를 해보자"
      ],
      "metadata": {
        "id": "riSyuceA_lm0"
      }
    },
    {
      "cell_type": "markdown",
      "source": [
        "벤젠 분자를 만들어 보자 (SMILES 코드를 이용하자)"
      ],
      "metadata": {
        "id": "NE0L5j3jI2i2"
      }
    },
    {
      "cell_type": "code",
      "source": [
        "theMol = Chem.MolFromSmiles('CCCCCCOCCC')\n",
        "theMol"
      ],
      "metadata": {
        "id": "SvD6T-VL_mI6"
      },
      "execution_count": null,
      "outputs": []
    },
    {
      "cell_type": "markdown",
      "source": [
        "MDL Molfile 문자열 만들기"
      ],
      "metadata": {
        "id": "4w83GtTY_mSK"
      }
    },
    {
      "cell_type": "code",
      "source": [
        "theMolBlock = Chem.MolToMolBlock(theMol)\n",
        "print(theMolBlock)"
      ],
      "metadata": {
        "id": "gf9sGdGJ_mbN"
      },
      "execution_count": null,
      "outputs": []
    },
    {
      "cell_type": "markdown",
      "source": [
        "분자 이름 변경하기"
      ],
      "metadata": {
        "id": "ZwUig8v4_miK"
      }
    },
    {
      "cell_type": "code",
      "source": [
        "theMol.SetProp('_Name','1-Propoxyhexane')\n",
        "print(Chem.MolToMolBlock(theMol))"
      ],
      "metadata": {
        "id": "_VNyYRlk_msJ"
      },
      "execution_count": null,
      "outputs": []
    },
    {
      "cell_type": "markdown",
      "source": [
        "분자를 MDL Mol파일로 저장하기\n"
      ],
      "metadata": {
        "id": "rGNC1gFSBW70"
      }
    },
    {
      "cell_type": "code",
      "source": [
        "theMolName = '1-Propoxyhexane.mol'\n",
        "print(Chem.MolToMolBlock(theMol),file=open(theMolName, 'w+'))"
      ],
      "metadata": {
        "id": "mxneP5QkBXN3"
      },
      "execution_count": null,
      "outputs": []
    },
    {
      "cell_type": "markdown",
      "source": [
        "MDL Mol 파일 불러오기"
      ],
      "metadata": {
        "id": "dqdGRNVCBXV6"
      }
    },
    {
      "cell_type": "code",
      "source": [
        "theAnotherMol = Chem.MolFromMolFile(theMolName)\n",
        "theAnotherMol"
      ],
      "metadata": {
        "id": "8hK8FXYKBXd0"
      },
      "execution_count": null,
      "outputs": []
    },
    {
      "cell_type": "markdown",
      "source": [
        "잘못된 분자구조를 읽어오려고 하면, 오류 메세지와 함께 Mol 객체는 None을 나타냄"
      ],
      "metadata": {
        "id": "d2MaYJRoBXlS"
      }
    },
    {
      "cell_type": "code",
      "source": [
        "theInvalidMolecule1 = Chem.MolFromSmiles('CO(C)C')\n",
        "theInvalidMolecule1 is None"
      ],
      "metadata": {
        "id": "_uLnzZz-BXtG"
      },
      "execution_count": null,
      "outputs": []
    },
    {
      "cell_type": "markdown",
      "source": [
        "잘못된 분자구조를 읽어오려고 하면, 오류 메세지와 함께 Mol 객체는 None을 나타냄 (Kekulize 오류)"
      ],
      "metadata": {
        "id": "I3nSsWIxBX3G"
      }
    },
    {
      "cell_type": "code",
      "source": [
        "theInvalidMolecule1 = Chem.MolFromSmiles('c1cc1')\n",
        "theInvalidMolecule1 is None"
      ],
      "metadata": {
        "id": "3CP00cocBX-b"
      },
      "execution_count": null,
      "outputs": []
    },
    {
      "cell_type": "markdown",
      "source": [
        "## RDKit Mol 객체 다루기!!!\n",
        "분자의 원자 개수 확인"
      ],
      "metadata": {
        "id": "qiv1lS6nBYEg"
      }
    },
    {
      "cell_type": "code",
      "source": [
        "theNumOfAtoms = theMol.GetNumAtoms()\n",
        "theNumOfAtoms"
      ],
      "metadata": {
        "id": "cU1swyK4BYK8"
      },
      "execution_count": null,
      "outputs": []
    },
    {
      "cell_type": "markdown",
      "source": [
        "분자의 Bond 개수 확인"
      ],
      "metadata": {
        "id": "WKb90H5TBYRK"
      }
    },
    {
      "cell_type": "code",
      "source": [
        "theNumOfBonds = theMol.GetNumBonds()\n",
        "theNumOfBonds"
      ],
      "metadata": {
        "id": "7_-rZm9hBYXP"
      },
      "execution_count": null,
      "outputs": []
    },
    {
      "cell_type": "markdown",
      "source": [
        "분자에 H원자 붙이기"
      ],
      "metadata": {
        "id": "IMdq_Dm0FOCm"
      }
    },
    {
      "cell_type": "code",
      "source": [
        "theMolWithHAtoms = Chem.AddHs(theMol)\n",
        "theMolWithHAtoms"
      ],
      "metadata": {
        "id": "6jjafjQuFOJQ"
      },
      "execution_count": null,
      "outputs": []
    },
    {
      "cell_type": "markdown",
      "source": [
        "분자구조의 위치를 3차원 좌표값으로 만들기"
      ],
      "metadata": {
        "id": "HkjCc6NHGOIi"
      }
    },
    {
      "cell_type": "code",
      "source": [
        "AllChem.EmbedMolecule(theMolWithHAtoms)  \n",
        "print(Chem.MolToMolBlock(theMolWithHAtoms))\n",
        "theMolWithHAtoms"
      ],
      "metadata": {
        "id": "zwtPE7e6GOer"
      },
      "execution_count": null,
      "outputs": []
    },
    {
      "cell_type": "code",
      "source": [
        "!pip install py3Dmol"
      ],
      "metadata": {
        "id": "G5aWguhvbBcf"
      },
      "execution_count": null,
      "outputs": []
    },
    {
      "cell_type": "code",
      "source": [
        "import py3Dmol\n",
        "\n",
        "def show3DMol(theMol, style='stick'):\n",
        "    mblock = Chem.MolToMolBlock(theMol)\n",
        "\n",
        "    view = py3Dmol.view(width=400, height=400)\n",
        "    view.addModel(mblock, 'mol')\n",
        "    view.setStyle({style:{}})\n",
        "    view.zoomTo()\n",
        "    view.show()\n",
        "\n",
        "def show3DMolWithOptimization(theMol, style='stick'):\n",
        "    mol = Chem.AddHs(theMol)\n",
        "    AllChem.EmbedMolecule(mol)\n",
        "    AllChem.MMFFOptimizeMolecule(mol, maxIters=200)\n",
        "    mblock = Chem.MolToMolBlock(mol)\n",
        "\n",
        "    view = py3Dmol.view(width=400, height=400)\n",
        "    view.addModel(mblock, 'mol')\n",
        "    view.setStyle({style:{}})\n",
        "    view.zoomTo()\n",
        "    view.show()\n",
        "    \n"
      ],
      "metadata": {
        "id": "6eRHd0TvbCc_"
      },
      "execution_count": null,
      "outputs": []
    },
    {
      "cell_type": "code",
      "source": [
        "show3DMol(theMolWithHAtoms)  "
      ],
      "metadata": {
        "id": "hVuU_Z9DcoB_"
      },
      "execution_count": null,
      "outputs": []
    },
    {
      "cell_type": "code",
      "source": [
        "show3DMolWithOptimization(theMolWithHAtoms)  "
      ],
      "metadata": {
        "id": "CoL8DiB6cpi7"
      },
      "execution_count": null,
      "outputs": []
    },
    {
      "cell_type": "markdown",
      "source": [
        "분자구조를 2차원으로 만들기"
      ],
      "metadata": {
        "id": "NGLUbayuHRHx"
      }
    },
    {
      "cell_type": "code",
      "source": [
        "AllChem.Compute2DCoords(theMolWithHAtoms)\n",
        "print(Chem.MolToMolBlock(theMolWithHAtoms))\n",
        "theMolWithHAtoms"
      ],
      "metadata": {
        "id": "ifvi4g6-HRQM"
      },
      "execution_count": null,
      "outputs": []
    },
    {
      "cell_type": "markdown",
      "source": [
        "H원자 지우기"
      ],
      "metadata": {
        "id": "pw-VDMSHFOQP"
      }
    },
    {
      "cell_type": "code",
      "source": [
        "theMol2 = Chem.RemoveHs(theMolWithHAtoms)\n",
        "print(Chem.MolToMolBlock(theMol2))\n",
        "theMol2"
      ],
      "metadata": {
        "id": "qW-5-wonFOWm"
      },
      "execution_count": null,
      "outputs": []
    },
    {
      "cell_type": "markdown",
      "source": [
        "## Atom과 Bond 다루기"
      ],
      "metadata": {
        "id": "0Gn8xoIJQfFM"
      }
    },
    {
      "cell_type": "markdown",
      "source": [
        "개별 Atom 객체 가져오기"
      ],
      "metadata": {
        "id": "mqWk0ZhkTb7T"
      }
    },
    {
      "cell_type": "code",
      "source": [
        "theFirstAtomOfMol = theMol.GetAtomWithIdx(0)\n",
        "theFirstAtomOfMol"
      ],
      "metadata": {
        "id": "kIZzXu_WTcFK"
      },
      "execution_count": null,
      "outputs": []
    },
    {
      "cell_type": "code",
      "source": [
        "theFirstAtomOfMol.GetAtomicNum()"
      ],
      "metadata": {
        "id": "gSMz14qEUMEf"
      },
      "execution_count": null,
      "outputs": []
    },
    {
      "cell_type": "code",
      "source": [
        "theFirstAtomOfMol.GetMass()"
      ],
      "metadata": {
        "id": "wb6xd0FBUmo2"
      },
      "execution_count": null,
      "outputs": []
    },
    {
      "cell_type": "code",
      "source": [
        "theFirstAtomOfMol.GetSymbol()"
      ],
      "metadata": {
        "id": "GF67mLudVAv5"
      },
      "execution_count": null,
      "outputs": []
    },
    {
      "cell_type": "code",
      "source": [
        "theNeighbors = theFirstAtomOfMol.GetNeighbors()\n",
        "theNeighbors"
      ],
      "metadata": {
        "id": "LC5CHif0VMr-"
      },
      "execution_count": null,
      "outputs": []
    },
    {
      "cell_type": "markdown",
      "source": [
        "원자번호 및 원소기호 출력"
      ],
      "metadata": {
        "id": "AG_nHv2TRH_Q"
      }
    },
    {
      "cell_type": "code",
      "source": [
        "#GetAtoms()\n",
        "\n",
        "for index, ithAtom in enumerate(theMolWithHAtoms.GetAtoms()):\n",
        "  print(str(index+1).zfill(2), '원자번호: {0}, 원소기호: {1}'.format(ithAtom.GetAtomicNum(), ithAtom.GetSymbol()))\n"
      ],
      "metadata": {
        "id": "1lVzR4UKQdY1"
      },
      "execution_count": null,
      "outputs": []
    },
    {
      "cell_type": "markdown",
      "source": [
        "개별 Bond 객체 가져오기"
      ],
      "metadata": {
        "id": "EUUmClXTV0jh"
      }
    },
    {
      "cell_type": "code",
      "source": [
        "theFirstBond = theMol.GetBondWithIdx(0)\n",
        "theFirstBond"
      ],
      "metadata": {
        "id": "pJvQap-oV0tE"
      },
      "execution_count": null,
      "outputs": []
    },
    {
      "cell_type": "code",
      "source": [
        "theFirstBond.GetBeginAtomIdx()"
      ],
      "metadata": {
        "id": "bJhwnI5UV08o"
      },
      "execution_count": null,
      "outputs": []
    },
    {
      "cell_type": "code",
      "source": [
        "theFirstBond.GetEndAtomIdx()"
      ],
      "metadata": {
        "id": "SPMhwnH_V1Bd"
      },
      "execution_count": null,
      "outputs": []
    },
    {
      "cell_type": "code",
      "source": [
        "theFirstBond.GetBondType()"
      ],
      "metadata": {
        "id": "n2NqzaXFV1GA"
      },
      "execution_count": null,
      "outputs": []
    },
    {
      "cell_type": "markdown",
      "source": [
        "Bond 정보 출력"
      ],
      "metadata": {
        "id": "oIPfSZH7Qd27"
      }
    },
    {
      "cell_type": "code",
      "source": [
        "#GetBonds()\n",
        "\n",
        "for index, ithBond in enumerate(theMolWithHAtoms.GetBonds()):\n",
        "  print(str(index+1).zfill(2), '\\t시작: {0}, 끝: {1}, Type: {2}'.format( \n",
        "      str(ithBond.GetBeginAtomIdx()).zfill(2), \n",
        "      str(ithBond.GetEndAtomIdx()).zfill(2), \n",
        "      ithBond.GetBondType()))\n"
      ],
      "metadata": {
        "id": "kQfdvGBoQgWa"
      },
      "execution_count": null,
      "outputs": []
    },
    {
      "cell_type": "markdown",
      "source": [
        "## SMILES 코드 다루기\n",
        "*   Chiral 표현\n",
        "\n"
      ],
      "metadata": {
        "id": "3xIFIukaFOd7"
      }
    },
    {
      "cell_type": "code",
      "source": [
        "theChiralMol = Chem.MolFromSmiles('C[C@H](O)c1ccccc1')\n",
        "print(Chem.MolToMolBlock(theChiralMol))\n",
        "theChiralMol"
      ],
      "metadata": {
        "id": "_TDo3bjKFOko"
      },
      "execution_count": null,
      "outputs": []
    },
    {
      "cell_type": "code",
      "source": [
        "show3DMol(theChiralMol)"
      ],
      "metadata": {
        "id": "8waRznfYbvud"
      },
      "execution_count": null,
      "outputs": []
    },
    {
      "cell_type": "code",
      "source": [
        "show3DMolWithOptimization(theChiralMol)"
      ],
      "metadata": {
        "id": "ByfxdPLFd-J7"
      },
      "execution_count": null,
      "outputs": []
    },
    {
      "cell_type": "markdown",
      "source": [
        "Chiral 제거"
      ],
      "metadata": {
        "id": "FCR9wNpsFOqr"
      }
    },
    {
      "cell_type": "code",
      "source": [
        "theRemovedChiralMolSmiles = Chem.MolToSmiles(theChiralMol,isomericSmiles=False)\n",
        "theRemovedChiralMol = Chem.MolFromSmiles(theRemovedChiralMolSmiles)\n",
        "print(Chem.MolToMolBlock(theRemovedChiralMol))\n",
        "print(theRemovedChiralMolSmiles)\n",
        "theRemovedChiralMol"
      ],
      "metadata": {
        "id": "LI96s70mLIqk"
      },
      "execution_count": null,
      "outputs": []
    },
    {
      "cell_type": "markdown",
      "source": [
        "* 기본 SMILES코드는 Canonical SMILES를 제공함"
      ],
      "metadata": {
        "id": "D7lnhxgyFO0_"
      }
    },
    {
      "cell_type": "code",
      "source": [
        "print(Chem.MolToSmiles(Chem.MolFromSmiles('C1=CC=CN=C1')))\n",
        "Chem.MolFromSmiles('C1=CC=CN=C1')"
      ],
      "metadata": {
        "id": "Z8Mkhtn_FO6X"
      },
      "execution_count": null,
      "outputs": []
    },
    {
      "cell_type": "code",
      "source": [
        "print(Chem.MolToSmiles(Chem.MolFromSmiles('c1cccnc1')))\n",
        "Chem.MolFromSmiles('c1cccnc1')"
      ],
      "metadata": {
        "id": "uLG7H6ZsFPFL"
      },
      "execution_count": null,
      "outputs": []
    },
    {
      "cell_type": "code",
      "source": [
        "print(Chem.MolToSmiles(Chem.MolFromSmiles('n1ccccc1')))\n",
        "Chem.MolFromSmiles('n1ccccc1')"
      ],
      "metadata": {
        "id": "SRZ8NIS3FPQC"
      },
      "execution_count": null,
      "outputs": []
    },
    {
      "cell_type": "markdown",
      "source": [
        "## MDL SDF 파일 읽기 (Reading sets of molecules)\n",
        "\n",
        "MDL SD 파일은 \"Mol 파일 묶음 + 분자 속성\"을 가진 파일입니다."
      ],
      "metadata": {
        "id": "2SDIrscSN3vQ"
      }
    },
    {
      "cell_type": "code",
      "source": [
        "theSDMolSupplier = Chem.SDMolSupplier('in-stock+for-sale.sdf')\n",
        "\n",
        "theZincMolList = []\n",
        "\n",
        "for ithMol in theSDMolSupplier :\n",
        "  theZincMolList.append(ithMol)\n",
        "  pass\n",
        "\n",
        "theZincMolList[0:10]"
      ],
      "metadata": {
        "id": "98-msICZpT_H"
      },
      "execution_count": null,
      "outputs": []
    },
    {
      "cell_type": "code",
      "source": [
        "print(theZincMolList[0].GetProp(\"zinc_id\"))"
      ],
      "metadata": {
        "id": "6wBffqyEr98S"
      },
      "execution_count": null,
      "outputs": []
    },
    {
      "cell_type": "code",
      "source": [
        "print(Chem.MolToMolBlock(theZincMolList[0]))"
      ],
      "metadata": {
        "id": "B02chR6bqntK"
      },
      "execution_count": null,
      "outputs": []
    },
    {
      "cell_type": "code",
      "source": [
        "theZincMolList[0]"
      ],
      "metadata": {
        "id": "QI_NLqfWpo0u"
      },
      "execution_count": null,
      "outputs": []
    },
    {
      "cell_type": "code",
      "source": [
        "show3DMol(theZincMolList[0])"
      ],
      "metadata": {
        "id": "jJEzeYG9p0Du"
      },
      "execution_count": null,
      "outputs": []
    },
    {
      "cell_type": "code",
      "source": [
        "show3DMolWithOptimization(theZincMolList[0])"
      ],
      "metadata": {
        "id": "d83ZKJ7np6Qb"
      },
      "execution_count": null,
      "outputs": []
    },
    {
      "cell_type": "markdown",
      "source": [
        "## 분자 그림 파일 만들기"
      ],
      "metadata": {
        "id": "wWZ9ZKGtqYxl"
      }
    },
    {
      "cell_type": "code",
      "source": [
        "from rdkit.Chem import Draw\n"
      ],
      "metadata": {
        "id": "EDbLepqlqY9q"
      },
      "execution_count": null,
      "outputs": []
    },
    {
      "cell_type": "code",
      "source": [
        "Draw.MolToFile(theZincMolList[0], 'zinc-001.png')\n",
        "theZincMolList[0]"
      ],
      "metadata": {
        "id": "98Ji6XmqvBTe"
      },
      "execution_count": null,
      "outputs": []
    },
    {
      "cell_type": "markdown",
      "source": [
        "2D 구조 최적화 후 그림 저장"
      ],
      "metadata": {
        "id": "vmzlMfVlu6Xq"
      }
    },
    {
      "cell_type": "code",
      "source": [
        "import copy\n",
        "theFirstZincMol = copy.deepcopy(theZincMolList[0])\n",
        "AllChem.Compute2DCoords(theFirstZincMol)\n"
      ],
      "metadata": {
        "id": "xwRtZ_xMu6eo"
      },
      "execution_count": null,
      "outputs": []
    },
    {
      "cell_type": "code",
      "source": [
        "Draw.MolToFile(theFirstZincMol, 'zinc-001-2D.png')\n",
        "theFirstZincMol"
      ],
      "metadata": {
        "id": "O5vYIN79zbq4"
      },
      "execution_count": null,
      "outputs": []
    },
    {
      "cell_type": "markdown",
      "source": [
        "여러 분자를 Grid 형태로 저장\n",
        "\n"
      ],
      "metadata": {
        "id": "PwPrF_au02bq"
      }
    },
    {
      "cell_type": "code",
      "source": [
        "theGridImage = Draw.MolsToGridImage(theZincMolList[:8],molsPerRow=4,subImgSize=(200,200),legends=[x.GetProp(\"zinc_id\") for x in theZincMolList[:8]], returnPNG=False)    \n",
        "theGridImage.save('zinc-grid-001-008.png')\n",
        "theGridImage"
      ],
      "metadata": {
        "id": "3XdprXS402yi"
      },
      "execution_count": null,
      "outputs": []
    },
    {
      "cell_type": "code",
      "source": [
        "for ithMol in theZincMolList:\n",
        "  AllChem.Compute2DCoords(ithMol)\n",
        "  pass\n",
        "\n",
        "theGridImage = Draw.MolsToGridImage(theZincMolList[:8],molsPerRow=4,subImgSize=(200,200),legends=[x.GetProp(\"zinc_id\") for x in theZincMolList[:8]], returnPNG=False)    \n",
        "theGridImage.save('zinc-grid-001-008-2D.png')\n",
        "theGridImage"
      ],
      "metadata": {
        "id": "MwmBPd_F1LGf"
      },
      "execution_count": null,
      "outputs": []
    },
    {
      "cell_type": "markdown",
      "source": [
        "Sub structure를 가진 화합물 찾아 그림으로 저장"
      ],
      "metadata": {
        "id": "fqTDhflx16NW"
      }
    },
    {
      "cell_type": "code",
      "source": [
        "theCommonCoreMol = Chem.MolFromSmiles('Nc1ccccc1')\n",
        "theCommonCoreMol"
      ],
      "metadata": {
        "id": "meiwBUBB15C5"
      },
      "execution_count": null,
      "outputs": []
    },
    {
      "cell_type": "code",
      "source": [
        "#theSubZincMolList = [x for x in theZincMolList if x.HasSubstructMatch(theCommonCoreMol)]\n",
        "\n",
        "theSubMatchedMolList = []\n",
        "for ithMol in theZincMolList:\n",
        "  if (ithMol.HasSubstructMatch(theCommonCoreMol)):\n",
        "    theSubMatchedMolList.append(ithMol)\n",
        "    pass\n",
        "  pass\n",
        "\n",
        "print('# of total molecule list : ' + str(len(theZincMolList)))\n",
        "print('# of matched molecules : ' + str(len(theSubMatchedMolList)))\n"
      ],
      "metadata": {
        "id": "ptG6hTVv2QWB"
      },
      "execution_count": null,
      "outputs": []
    },
    {
      "cell_type": "code",
      "source": [
        "AllChem.Compute2DCoords(theCommonCoreMol)\n",
        "\n",
        "for ithMatchedMol in theSubMatchedMolList:\n",
        "  _ = AllChem.GenerateDepictionMatching2DStructure(ithMatchedMol,theCommonCoreMol)    "
      ],
      "metadata": {
        "id": "Vo9PXtL94XjD"
      },
      "execution_count": null,
      "outputs": []
    },
    {
      "cell_type": "code",
      "source": [
        "theMatchedGridImage = Draw.MolsToGridImage(theSubMatchedMolList[:12],molsPerRow=4,subImgSize=(300,300),legends=[x.GetProp(\"zinc_id\") for x in theSubMatchedMolList], returnPNG=False)    \n",
        "theMatchedGridImage.save('zinc-matched-grid.png') \n",
        "theMatchedGridImage"
      ],
      "metadata": {
        "id": "sG9Uku0F43tL"
      },
      "execution_count": null,
      "outputs": []
    },
    {
      "cell_type": "markdown",
      "source": [
        "## Substructure 검색"
      ],
      "metadata": {
        "id": "aqq26nOD-lqz"
      }
    },
    {
      "cell_type": "code",
      "source": [
        "theMolecule = Chem.MolFromSmiles('c1ccccc1O')\n",
        "theMolecule\n",
        "\n"
      ],
      "metadata": {
        "id": "n0IzZwlI-lys"
      },
      "execution_count": null,
      "outputs": []
    },
    {
      "cell_type": "code",
      "source": [
        "thePattern = Chem.MolFromSmarts('ccO')\n",
        "thePattern"
      ],
      "metadata": {
        "id": "9Be88Am0-mEf"
      },
      "execution_count": null,
      "outputs": []
    },
    {
      "cell_type": "code",
      "source": [
        "theMolecule.HasSubstructMatch(thePattern)"
      ],
      "metadata": {
        "id": "qPaESwac-mR_"
      },
      "execution_count": null,
      "outputs": []
    },
    {
      "cell_type": "code",
      "source": [
        "theMolecule.GetSubstructMatch(thePattern)"
      ],
      "metadata": {
        "id": "2SAe-pGR-me0"
      },
      "execution_count": null,
      "outputs": []
    },
    {
      "cell_type": "code",
      "source": [
        "theMolecule.GetSubstructMatches(thePattern)"
      ],
      "metadata": {
        "id": "Z6S7pR0h_e-_"
      },
      "execution_count": null,
      "outputs": []
    },
    {
      "cell_type": "code",
      "source": [
        "theMatchedMolList = []\n",
        "for ithZincMol in theZincMolList:\n",
        "  if ithZincMol.HasSubstructMatch(thePattern):\n",
        "    theMatchedMolList.append(ithZincMol)\n",
        "\n",
        "print(len(theMatchedMolList))"
      ],
      "metadata": {
        "id": "2kbYqqOj_tyd"
      },
      "execution_count": null,
      "outputs": []
    },
    {
      "cell_type": "code",
      "source": [
        "for ithMol in theMatchedMolList:\n",
        "  AllChem.Compute2DCoords(ithMol)\n",
        "  pass\n",
        "\n",
        "theGridImage = Draw.MolsToGridImage(theMatchedMolList,molsPerRow=6,subImgSize=(200,200),legends=[x.GetProp(\"zinc_id\") for x in theMatchedMolList], returnPNG=False)    \n",
        "theGridImage.save('zinc-substr-matched-grid-2D.png')\n",
        "theGridImage"
      ],
      "metadata": {
        "id": "p5I5dVY4AVpm"
      },
      "execution_count": null,
      "outputs": []
    },
    {
      "cell_type": "markdown",
      "source": [
        "## Chemical Transformations"
      ],
      "metadata": {
        "id": "SsArhGtiBm0_"
      }
    },
    {
      "cell_type": "markdown",
      "source": [
        "Substructure-based Transformations"
      ],
      "metadata": {
        "id": "YgE3cC-hBsKW"
      }
    },
    {
      "cell_type": "markdown",
      "source": [
        "* Deleting substructure"
      ],
      "metadata": {
        "id": "bo3-8PiBCThd"
      }
    },
    {
      "cell_type": "code",
      "source": [
        "theMol = Chem.MolFromSmiles('CC(=O)O')\n",
        "theMol"
      ],
      "metadata": {
        "id": "T7HlbSFoBZgW"
      },
      "execution_count": null,
      "outputs": []
    },
    {
      "cell_type": "code",
      "source": [
        "thePattern = Chem.MolFromSmarts('C(=O)[OH]')\n",
        "thePattern"
      ],
      "metadata": {
        "id": "Mp6fVnBBBZoy"
      },
      "execution_count": null,
      "outputs": []
    },
    {
      "cell_type": "code",
      "source": [
        "theRemovedMol = AllChem.DeleteSubstructs(theMol,thePattern)\n",
        "theRemovedMol"
      ],
      "metadata": {
        "id": "ih6UHN3eBZxM"
      },
      "execution_count": null,
      "outputs": []
    },
    {
      "cell_type": "markdown",
      "source": [
        "* Replacing substructure"
      ],
      "metadata": {
        "id": "BpmaEULpCQ1K"
      }
    },
    {
      "cell_type": "code",
      "source": [
        "theReplaceMol = Chem.MolFromSmiles('OC')\n",
        "theReplaceMol"
      ],
      "metadata": {
        "id": "gVk5IalABZ3E"
      },
      "execution_count": null,
      "outputs": []
    },
    {
      "cell_type": "code",
      "source": [
        "thePattern = Chem.MolFromSmarts('[$(NC(=O))]')\n",
        "thePattern"
      ],
      "metadata": {
        "id": "hZ9qgsJdC1fG"
      },
      "execution_count": null,
      "outputs": []
    },
    {
      "cell_type": "code",
      "source": [
        "theMol = Chem.MolFromSmiles('CC(=O)N')\n",
        "theMol"
      ],
      "metadata": {
        "id": "l00cYlq3C1qR"
      },
      "execution_count": null,
      "outputs": []
    },
    {
      "cell_type": "code",
      "source": [
        "AllChem.ReplaceSubstructs(theMol,thePattern,theReplaceMol)[0]\n"
      ],
      "metadata": {
        "id": "OzRV4G3KC1yU"
      },
      "execution_count": null,
      "outputs": []
    },
    {
      "cell_type": "code",
      "source": [],
      "metadata": {
        "id": "nlfG4JKBEYzQ"
      },
      "execution_count": null,
      "outputs": []
    },
    {
      "cell_type": "markdown",
      "source": [
        "## Fingerprinting and Molecular Similarity\n"
      ],
      "metadata": {
        "id": "fMbd2FR0E_of"
      }
    },
    {
      "cell_type": "code",
      "source": [
        "from rdkit import DataStructs"
      ],
      "metadata": {
        "id": "Nemmd_kSE_zD"
      },
      "execution_count": null,
      "outputs": []
    },
    {
      "cell_type": "markdown",
      "source": [
        "첫번째 분자와 나머지 분자의 유사도 계산"
      ],
      "metadata": {
        "id": "vA5WbWxpE_7S"
      }
    },
    {
      "cell_type": "code",
      "source": [
        "theFingerprintList = [Chem.RDKFingerprint(x) for x in theZincMolList]\n",
        "for idx, ithFingerprint in enumerate(theFingerprintList):\n",
        "  if idx == 0 : continue\n",
        "  ithSimilarity = DataStructs.FingerprintSimilarity(theFingerprintList[0], theFingerprintList[idx])\n",
        "  print(idx, ithSimilarity)"
      ],
      "metadata": {
        "id": "INeIKz2j68gz"
      },
      "execution_count": null,
      "outputs": []
    },
    {
      "cell_type": "markdown",
      "source": [
        "Fingerprint 이미지 만들기"
      ],
      "metadata": {
        "id": "A3Xy3lHgMsI0"
      }
    },
    {
      "cell_type": "code",
      "source": [
        "from rdkit.Chem import Draw\n",
        "mol = Chem.MolFromSmiles('c1ccccc1CC1CC1')\n",
        "bi = {}\n",
        "fp = AllChem.GetMorganFingerprintAsBitVect(mol, radius=2, bitInfo=bi)\n",
        "bi[872]"
      ],
      "metadata": {
        "id": "Qt0Z0ahRMsrH"
      },
      "execution_count": null,
      "outputs": []
    },
    {
      "cell_type": "code",
      "source": [
        "mfp2_svg = Draw.DrawMorganBit(mol, 872, bi, useSVG=True)\n",
        "mfp2_svg"
      ],
      "metadata": {
        "id": "7Lf9J8syNJV_"
      },
      "execution_count": null,
      "outputs": []
    },
    {
      "cell_type": "code",
      "source": [
        "rdkbi = {}\n",
        "rdkfp = Chem.RDKFingerprint(mol, maxPath=5, bitInfo=rdkbi)\n",
        "rdkbi[1553]"
      ],
      "metadata": {
        "id": "eSW4amIwNOjl"
      },
      "execution_count": null,
      "outputs": []
    },
    {
      "cell_type": "code",
      "source": [
        "rdk_svg = Draw.DrawRDKitBit(mol, 1553, rdkbi, useSVG=True)\n",
        "rdk_svg"
      ],
      "metadata": {
        "id": "bt8c9iriNUi3"
      },
      "execution_count": null,
      "outputs": []
    },
    {
      "cell_type": "code",
      "source": [],
      "metadata": {
        "id": "VwTGi5xMNjLr"
      },
      "execution_count": null,
      "outputs": []
    },
    {
      "cell_type": "code",
      "source": [
        "import requests\n",
        "theLogSDataFileUrl = 'https://raw.githubusercontent.com/youngmook/cheminfo-python/main/logS-data.sdf'\n",
        "\n",
        "theResponse = requests.get(theLogSDataFileUrl, allow_redirects=True)\n",
        "with open('logS-data.sdf', 'wb') as theWriter:\n",
        "  theWriter.write(theResponse.content)\n",
        "\n"
      ],
      "metadata": {
        "id": "-mOc6NUiU3Vp"
      },
      "execution_count": 3,
      "outputs": []
    },
    {
      "cell_type": "code",
      "source": [
        "theSDMolSupplier = Chem.SDMolSupplier('logS-data.sdf')\n",
        "\n",
        "theMolList = []\n",
        "\n",
        "for ithMol in theSDMolSupplier :\n",
        "  theMolList.append(ithMol)\n",
        "  pass\n",
        "\n",
        "theMolList[0:10]"
      ],
      "metadata": {
        "id": "LscRsJlmNjYN",
        "outputId": "87ce2281-aece-4190-b83c-f84ec6fb8656",
        "colab": {
          "base_uri": "https://localhost:8080/"
        }
      },
      "execution_count": 7,
      "outputs": [
        {
          "output_type": "execute_result",
          "data": {
            "text/plain": [
              "[<rdkit.Chem.rdchem.Mol at 0x7f2ccbae34a0>,\n",
              " <rdkit.Chem.rdchem.Mol at 0x7f2ccbae3510>,\n",
              " <rdkit.Chem.rdchem.Mol at 0x7f2ccbae3580>,\n",
              " <rdkit.Chem.rdchem.Mol at 0x7f2ccbae35f0>,\n",
              " <rdkit.Chem.rdchem.Mol at 0x7f2ccbae3660>,\n",
              " <rdkit.Chem.rdchem.Mol at 0x7f2ccbae36d0>,\n",
              " <rdkit.Chem.rdchem.Mol at 0x7f2ccbae3740>,\n",
              " <rdkit.Chem.rdchem.Mol at 0x7f2ccbae37b0>,\n",
              " <rdkit.Chem.rdchem.Mol at 0x7f2ccbae3820>,\n",
              " <rdkit.Chem.rdchem.Mol at 0x7f2ccbae3890>]"
            ]
          },
          "metadata": {},
          "execution_count": 7
        }
      ]
    },
    {
      "cell_type": "code",
      "source": [
        "from rdkit import Chem\n",
        "from rdkit.Chem.EState import Fingerprinter\n",
        "from rdkit.Chem import Descriptors\n",
        "import pandas as pd\n",
        "import numpy as np\n",
        "from sklearn.preprocessing import StandardScaler\n",
        "from sklearn.model_selection import train_test_split\n",
        "from keras.models import Sequential\n",
        "from keras.layers import Dense, Activation\n",
        "from tensorflow.keras.optimizers import SGD\n",
        "from tensorflow.keras.layers import (\n",
        "    Dense,\n",
        "    Dropout,\n",
        ")\n"
      ],
      "metadata": {
        "id": "naRfVDC3Njhr"
      },
      "execution_count": 8,
      "outputs": []
    },
    {
      "cell_type": "code",
      "source": [
        "def molToFingerprintList(mol):\n",
        "  return np.append(Fingerprinter.FingerprintMol(mol)[0],Descriptors.MolWt(mol))"
      ],
      "metadata": {
        "id": "SCAJJpRkNjqj"
      },
      "execution_count": 9,
      "outputs": []
    },
    {
      "cell_type": "code",
      "source": [
        "X = []\n",
        "y = []\n",
        "for ithMol in theMolList:\n",
        "  X.append(molToFingerprintList(ithMol))\n",
        "  y.append(float(ithMol.GetProp('logS')))\n",
        "X = np.array(X)\n",
        "y = np.array(y)\n",
        "X"
      ],
      "metadata": {
        "id": "XPpBx8TbNj1g",
        "outputId": "4c1c0559-c2e3-4101-e4ce-d16796187492",
        "colab": {
          "base_uri": "https://localhost:8080/"
        }
      },
      "execution_count": 10,
      "outputs": [
        {
          "output_type": "execute_result",
          "data": {
            "text/plain": [
              "array([[  0.   ,   0.   ,   0.   , ...,   0.   ,   0.   , 665.733],\n",
              "       [  0.   ,   0.   ,   0.   , ...,   0.   ,   0.   , 589.64 ],\n",
              "       [  0.   ,   0.   ,   0.   , ...,   0.   ,   0.   , 528.582],\n",
              "       ...,\n",
              "       [  0.   ,   0.   ,   0.   , ...,   0.   ,   0.   , 206.266],\n",
              "       [  0.   ,   0.   ,   0.   , ...,   0.   ,   0.   , 218.321],\n",
              "       [  0.   ,   0.   ,   0.   , ...,   0.   ,   0.   , 141.086]])"
            ]
          },
          "metadata": {},
          "execution_count": 10
        }
      ]
    },
    {
      "cell_type": "code",
      "source": [
        "theStandardScaler = StandardScaler()\n",
        "X= theStandardScaler.fit_transform(X)\n",
        "X_train, X_test, y_train, y_test = train_test_split(X, y, test_size=0.25, random_state=42)"
      ],
      "metadata": {
        "id": "Es4aNP4rOIzY"
      },
      "execution_count": 11,
      "outputs": []
    },
    {
      "cell_type": "code",
      "source": [
        "X_train"
      ],
      "metadata": {
        "id": "c6pgdlF3OI-8",
        "outputId": "bba198a6-75a3-4da3-ff27-1b7e971df895",
        "colab": {
          "base_uri": "https://localhost:8080/"
        }
      },
      "execution_count": 12,
      "outputs": [
        {
          "output_type": "execute_result",
          "data": {
            "text/plain": [
              "array([[ 0.        ,  0.        ,  0.        , ...,  0.        ,\n",
              "         0.        ,  1.99449515],\n",
              "       [ 0.        ,  0.        ,  0.        , ...,  0.        ,\n",
              "         0.        ,  0.36520251],\n",
              "       [ 0.        ,  0.        ,  0.        , ...,  0.        ,\n",
              "         0.        ,  0.08054434],\n",
              "       ...,\n",
              "       [ 0.        ,  0.        ,  0.        , ...,  0.        ,\n",
              "         0.        , -0.86357368],\n",
              "       [ 0.        ,  0.        ,  0.        , ...,  0.        ,\n",
              "         0.        ,  0.62097486],\n",
              "       [ 0.        ,  0.        ,  0.        , ...,  0.        ,\n",
              "         0.        , -1.04418619]])"
            ]
          },
          "metadata": {},
          "execution_count": 12
        }
      ]
    },
    {
      "cell_type": "code",
      "source": [
        "model = Sequential()\n",
        "model.add(Dense(units=512, activation='relu', input_shape=(X.shape[1],)))\n",
        "model.add(Dense(units = 512, activation='relu'))\n",
        "model.add(Dense(units = 1024, activation='relu'))\n",
        "model.add(Dropout(0.2))\n",
        "model.add(Dense(units = 256, activation='relu'))\n",
        "model.add(Dense(units = 1024, activation='relu'))\n",
        "model.add(Dense(units = 512, activation='relu'))\n",
        "model.add(Dense(units = 1, activation='linear'))"
      ],
      "metadata": {
        "id": "vhQYdaWoOVQu"
      },
      "execution_count": 13,
      "outputs": []
    },
    {
      "cell_type": "code",
      "source": [
        "model.summary()\n"
      ],
      "metadata": {
        "id": "h1z66oE2OVV_",
        "outputId": "c4862b66-ffae-43d0-86e9-438f476cf942",
        "colab": {
          "base_uri": "https://localhost:8080/"
        }
      },
      "execution_count": 14,
      "outputs": [
        {
          "output_type": "stream",
          "name": "stdout",
          "text": [
            "Model: \"sequential\"\n",
            "_________________________________________________________________\n",
            " Layer (type)                Output Shape              Param #   \n",
            "=================================================================\n",
            " dense (Dense)               (None, 512)               41472     \n",
            "                                                                 \n",
            " dense_1 (Dense)             (None, 512)               262656    \n",
            "                                                                 \n",
            " dense_2 (Dense)             (None, 1024)              525312    \n",
            "                                                                 \n",
            " dropout (Dropout)           (None, 1024)              0         \n",
            "                                                                 \n",
            " dense_3 (Dense)             (None, 256)               262400    \n",
            "                                                                 \n",
            " dense_4 (Dense)             (None, 1024)              263168    \n",
            "                                                                 \n",
            " dense_5 (Dense)             (None, 512)               524800    \n",
            "                                                                 \n",
            " dense_6 (Dense)             (None, 1)                 513       \n",
            "                                                                 \n",
            "=================================================================\n",
            "Total params: 1,880,321\n",
            "Trainable params: 1,880,321\n",
            "Non-trainable params: 0\n",
            "_________________________________________________________________\n"
          ]
        }
      ]
    },
    {
      "cell_type": "code",
      "source": [
        "model.compile(loss='mean_squared_error', optimizer=SGD(learning_rate=0.001, momentum=0.9, nesterov=True))\n"
      ],
      "metadata": {
        "id": "2Axn7i3uOVaE"
      },
      "execution_count": 15,
      "outputs": []
    },
    {
      "cell_type": "code",
      "source": [
        "#history = model.fit(X_train, y_train, nb_epoch=500, batch_size=32)\n",
        "history = model.fit(\n",
        "    X_train, y_train, epochs=50, verbose=1, validation_data=(X_test, y_test)\n",
        ")"
      ],
      "metadata": {
        "id": "fGY28FOWOhbt"
      },
      "execution_count": null,
      "outputs": []
    },
    {
      "cell_type": "code",
      "source": [
        "import matplotlib.pyplot as plt\n",
        "\n",
        "plt.scatter(y_train,model.predict(X_train), label = 'Train', c='blue')\n",
        "plt.title('Neural Network Predictor')\n",
        "plt.xlabel('Measured Solubility')\n",
        "plt.ylabel('Predicted Solubility')\n",
        "plt.scatter(y_test,model.predict(X_test),c='lightgreen', label='Test', alpha = 0.8)\n",
        "plt.legend(loc=4)\n",
        "plt.show()"
      ],
      "metadata": {
        "id": "TuczEQgmOhfV",
        "outputId": "cef5ab09-bf26-43bf-d4e8-fcc6a5ed0f2f",
        "colab": {
          "base_uri": "https://localhost:8080/",
          "height": 508
        }
      },
      "execution_count": 17,
      "outputs": [
        {
          "output_type": "stream",
          "name": "stdout",
          "text": [
            "33/33 [==============================] - 0s 6ms/step\n",
            "11/11 [==============================] - 0s 6ms/step\n"
          ]
        },
        {
          "output_type": "display_data",
          "data": {
            "text/plain": [
              "<Figure size 640x480 with 1 Axes>"
            ],
            "image/png": "[encoded data removed]"
          },
          "metadata": {}
        }
      ]
    },
    {
      "cell_type": "code",
      "source": [],
      "metadata": {
        "id": "Pqp_VXRPOhiF"
      },
      "execution_count": null,
      "outputs": []
    },
    {
      "cell_type": "code",
      "source": [],
      "metadata": {
        "id": "YNZ_a3NBOhki"
      },
      "execution_count": null,
      "outputs": []
    }
  ]
}