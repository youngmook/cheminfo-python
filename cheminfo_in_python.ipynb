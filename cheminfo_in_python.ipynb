{
  "nbformat": 4,
  "nbformat_minor": 0,
  "metadata": {
    "colab": {
      "name": "cheminfo_in_python.ipynb",
      "provenance": [],
      "collapsed_sections": [],
      "authorship_tag": "ABX9TyOyla/3H1U4G5EkUFlzvdrX",
      "include_colab_link": true
    },
    "kernelspec": {
      "name": "python3",
      "display_name": "Python 3"
    },
    "language_info": {
      "name": "python"
    }
  },
  "cells": [
    {
      "cell_type": "markdown",
      "metadata": {
        "id": "view-in-github",
        "colab_type": "text"
      },
      "source": [
        "<a href=\"https://colab.research.google.com/github/youngmook/cheminfo-python/blob/main/cheminfo_in_python.ipynb\" target=\"_parent\"><img src=\"https://colab.research.google.com/assets/colab-badge.svg\" alt=\"Open In Colab\"/></a>"
      ]
    },
    {
      "cell_type": "markdown",
      "source": [
        "##Miniconda 및 RDKit 설치\n",
        "Miniconda version : py37_4.12.0<br/>\n",
        "Base OS : Ubuntu 18.04 (2022.05.18 기준) 테스트"
      ],
      "metadata": {
        "id": "J5De5ZbroWEA"
      }
    },
    {
      "cell_type": "code",
      "execution_count": null,
      "metadata": {
        "colab": {
          "base_uri": "https://localhost:8080/"
        },
        "id": "hiT6ezOrn94B",
        "outputId": "d2f00b26-8022-4c60-f369-7eebb2c59172"
      },
      "outputs": [
        {
          "output_type": "stream",
          "name": "stdout",
          "text": [
            "--2022-05-18 00:57:41--  https://repo.continuum.io/miniconda/Miniconda3-py37_4.12.0-Linux-x86_64.sh\n",
            "Resolving repo.continuum.io (repo.continuum.io)... 104.18.200.79, 104.18.201.79, 2606:4700::6812:c94f, ...\n",
            "Connecting to repo.continuum.io (repo.continuum.io)|104.18.200.79|:443... connected.\n",
            "HTTP request sent, awaiting response... 301 Moved Permanently\n",
            "Location: https://repo.anaconda.com/miniconda/Miniconda3-py37_4.12.0-Linux-x86_64.sh [following]\n",
            "--2022-05-18 00:57:41--  https://repo.anaconda.com/miniconda/Miniconda3-py37_4.12.0-Linux-x86_64.sh\n",
            "Resolving repo.anaconda.com (repo.anaconda.com)... 104.16.130.3, 104.16.131.3, 2606:4700::6810:8303, ...\n",
            "Connecting to repo.anaconda.com (repo.anaconda.com)|104.16.130.3|:443... connected.\n",
            "HTTP request sent, awaiting response... 200 OK\n",
            "Length: 104996770 (100M) [application/x-sh]\n",
            "Saving to: ‘Miniconda3-py37_4.12.0-Linux-x86_64.sh’\n",
            "\n",
            "Miniconda3-py37_4.1 100%[===================>] 100.13M  56.9MB/s    in 1.8s    \n",
            "\n",
            "2022-05-18 00:57:43 (56.9 MB/s) - ‘Miniconda3-py37_4.12.0-Linux-x86_64.sh’ saved [104996770/104996770]\n",
            "\n",
            "PREFIX=/usr/local\n",
            "Unpacking payload ...\n",
            "Collecting package metadata (current_repodata.json): - \b\b\\ \b\b| \b\bdone\n",
            "Solving environment: - \b\b\\ \b\b| \b\bdone\n",
            "\n",
            "## Package Plan ##\n",
            "\n",
            "  environment location: /usr/local\n",
            "\n",
            "  added / updated specs:\n",
            "    - _libgcc_mutex==0.1=main\n",
            "    - _openmp_mutex==4.5=1_gnu\n",
            "    - brotlipy==0.7.0=py37h27cfd23_1003\n",
            "    - ca-certificates==2022.3.29=h06a4308_1\n",
            "    - certifi==2021.10.8=py37h06a4308_2\n",
            "    - cffi==1.15.0=py37hd667e15_1\n",
            "    - charset-normalizer==2.0.4=pyhd3eb1b0_0\n",
            "    - colorama==0.4.4=pyhd3eb1b0_0\n",
            "    - conda-content-trust==0.1.1=pyhd3eb1b0_0\n",
            "    - conda-package-handling==1.8.1=py37h7f8727e_0\n",
            "    - conda==4.12.0=py37h06a4308_0\n",
            "    - cryptography==36.0.0=py37h9ce1e76_0\n",
            "    - idna==3.3=pyhd3eb1b0_0\n",
            "    - ld_impl_linux-64==2.35.1=h7274673_9\n",
            "    - libffi==3.3=he6710b0_2\n",
            "    - libgcc-ng==9.3.0=h5101ec6_17\n",
            "    - libgomp==9.3.0=h5101ec6_17\n",
            "    - libstdcxx-ng==9.3.0=hd4cf53a_17\n",
            "    - ncurses==6.3=h7f8727e_2\n",
            "    - openssl==1.1.1n=h7f8727e_0\n",
            "    - pip==21.2.2=py37h06a4308_0\n",
            "    - pycosat==0.6.3=py37h27cfd23_0\n",
            "    - pycparser==2.21=pyhd3eb1b0_0\n",
            "    - pyopenssl==22.0.0=pyhd3eb1b0_0\n",
            "    - pysocks==1.7.1=py37_1\n",
            "    - python==3.7.13=h12debd9_0\n",
            "    - readline==8.1.2=h7f8727e_1\n",
            "    - requests==2.27.1=pyhd3eb1b0_0\n",
            "    - ruamel_yaml==0.15.100=py37h27cfd23_0\n",
            "    - setuptools==61.2.0=py37h06a4308_0\n",
            "    - six==1.16.0=pyhd3eb1b0_1\n",
            "    - sqlite==3.38.2=hc218d9a_0\n",
            "    - tk==8.6.11=h1ccaba5_0\n",
            "    - tqdm==4.63.0=pyhd3eb1b0_0\n",
            "    - urllib3==1.26.8=pyhd3eb1b0_0\n",
            "    - wheel==0.37.1=pyhd3eb1b0_0\n",
            "    - xz==5.2.5=h7b6447c_0\n",
            "    - yaml==0.2.5=h7b6447c_0\n",
            "    - zlib==1.2.12=h7f8727e_1\n",
            "\n",
            "\n",
            "The following NEW packages will be INSTALLED:\n",
            "\n",
            "  _libgcc_mutex      pkgs/main/linux-64::_libgcc_mutex-0.1-main\n",
            "  _openmp_mutex      pkgs/main/linux-64::_openmp_mutex-4.5-1_gnu\n",
            "  brotlipy           pkgs/main/linux-64::brotlipy-0.7.0-py37h27cfd23_1003\n",
            "  ca-certificates    pkgs/main/linux-64::ca-certificates-2022.3.29-h06a4308_1\n",
            "  certifi            pkgs/main/linux-64::certifi-2021.10.8-py37h06a4308_2\n",
            "  cffi               pkgs/main/linux-64::cffi-1.15.0-py37hd667e15_1\n",
            "  charset-normalizer pkgs/main/noarch::charset-normalizer-2.0.4-pyhd3eb1b0_0\n",
            "  colorama           pkgs/main/noarch::colorama-0.4.4-pyhd3eb1b0_0\n",
            "  conda              pkgs/main/linux-64::conda-4.12.0-py37h06a4308_0\n",
            "  conda-content-tru~ pkgs/main/noarch::conda-content-trust-0.1.1-pyhd3eb1b0_0\n",
            "  conda-package-han~ pkgs/main/linux-64::conda-package-handling-1.8.1-py37h7f8727e_0\n",
            "  cryptography       pkgs/main/linux-64::cryptography-36.0.0-py37h9ce1e76_0\n",
            "  idna               pkgs/main/noarch::idna-3.3-pyhd3eb1b0_0\n",
            "  ld_impl_linux-64   pkgs/main/linux-64::ld_impl_linux-64-2.35.1-h7274673_9\n",
            "  libffi             pkgs/main/linux-64::libffi-3.3-he6710b0_2\n",
            "  libgcc-ng          pkgs/main/linux-64::libgcc-ng-9.3.0-h5101ec6_17\n",
            "  libgomp            pkgs/main/linux-64::libgomp-9.3.0-h5101ec6_17\n",
            "  libstdcxx-ng       pkgs/main/linux-64::libstdcxx-ng-9.3.0-hd4cf53a_17\n",
            "  ncurses            pkgs/main/linux-64::ncurses-6.3-h7f8727e_2\n",
            "  openssl            pkgs/main/linux-64::openssl-1.1.1n-h7f8727e_0\n",
            "  pip                pkgs/main/linux-64::pip-21.2.2-py37h06a4308_0\n",
            "  pycosat            pkgs/main/linux-64::pycosat-0.6.3-py37h27cfd23_0\n",
            "  pycparser          pkgs/main/noarch::pycparser-2.21-pyhd3eb1b0_0\n",
            "  pyopenssl          pkgs/main/noarch::pyopenssl-22.0.0-pyhd3eb1b0_0\n",
            "  pysocks            pkgs/main/linux-64::pysocks-1.7.1-py37_1\n",
            "  python             pkgs/main/linux-64::python-3.7.13-h12debd9_0\n",
            "  readline           pkgs/main/linux-64::readline-8.1.2-h7f8727e_1\n",
            "  requests           pkgs/main/noarch::requests-2.27.1-pyhd3eb1b0_0\n",
            "  ruamel_yaml        pkgs/main/linux-64::ruamel_yaml-0.15.100-py37h27cfd23_0\n",
            "  setuptools         pkgs/main/linux-64::setuptools-61.2.0-py37h06a4308_0\n",
            "  six                pkgs/main/noarch::six-1.16.0-pyhd3eb1b0_1\n",
            "  sqlite             pkgs/main/linux-64::sqlite-3.38.2-hc218d9a_0\n",
            "  tk                 pkgs/main/linux-64::tk-8.6.11-h1ccaba5_0\n",
            "  tqdm               pkgs/main/noarch::tqdm-4.63.0-pyhd3eb1b0_0\n",
            "  urllib3            pkgs/main/noarch::urllib3-1.26.8-pyhd3eb1b0_0\n",
            "  wheel              pkgs/main/noarch::wheel-0.37.1-pyhd3eb1b0_0\n",
            "  xz                 pkgs/main/linux-64::xz-5.2.5-h7b6447c_0\n",
            "  yaml               pkgs/main/linux-64::yaml-0.2.5-h7b6447c_0\n",
            "  zlib               pkgs/main/linux-64::zlib-1.2.12-h7f8727e_1\n",
            "\n",
            "\n",
            "Preparing transaction: - \b\b\\ \b\b| \b\bdone\n",
            "Executing transaction: - \b\b\\ \b\b| \b\b/ \b\b- \b\b\\ \b\b| \b\b/ \b\b- \b\b\\ \b\b| \b\b/ \b\b- \b\b\\ \b\b| \b\b/ \b\b- \b\bdone\n",
            "installation finished.\n",
            "WARNING:\n",
            "    You currently have a PYTHONPATH environment variable set. This may cause\n",
            "    unexpected behavior when running the Python interpreter in Miniconda3.\n",
            "    For best results, please verify that your PYTHONPATH only points to\n",
            "    directories of packages that are compatible with the Python interpreter\n",
            "    in Miniconda3: /usr/local\n",
            "\n",
            "real\t0m25.125s\n",
            "user\t0m17.549s\n",
            "sys\t0m5.510s\n"
          ]
        }
      ],
      "source": [
        "!wget -c https://repo.continuum.io/miniconda/Miniconda3-py37_4.12.0-Linux-x86_64.sh\n",
        "!chmod +x Miniconda3-py37_4.12.0-Linux-x86_64.sh\n",
        "!time bash ./Miniconda3-py37_4.12.0-Linux-x86_64.sh -b -f -p /usr/local"
      ]
    },
    {
      "cell_type": "markdown",
      "source": [
        "RDKit (Cheminformatics tool) 설치"
      ],
      "metadata": {
        "id": "sKljWzi3rRCI"
      }
    },
    {
      "cell_type": "code",
      "source": [
        "!time conda install -q -y -c conda-forge rdkit==2019.03.4=py37hb31dc5d_1\n"
      ],
      "metadata": {
        "id": "rbL0EF2zphv6",
        "colab": {
          "base_uri": "https://localhost:8080/"
        },
        "outputId": "aa2c3aad-5373-4df6-8187-fa7a067de7bb"
      },
      "execution_count": 2,
      "outputs": [
        {
          "output_type": "stream",
          "name": "stdout",
          "text": [
            "Collecting package metadata (current_repodata.json): ...working... done\n",
            "Solving environment: ...working... failed with initial frozen solve. Retrying with flexible solve.\n",
            "Collecting package metadata (repodata.json): ...working... done\n",
            "Solving environment: ...working... done\n",
            "\n",
            "## Package Plan ##\n",
            "\n",
            "  environment location: /usr/local\n",
            "\n",
            "  added / updated specs:\n",
            "    - rdkit==2019.03.4=py37hb31dc5d_1\n",
            "\n",
            "\n",
            "The following packages will be downloaded:\n",
            "\n",
            "    package                    |            build\n",
            "    ---------------------------|-----------------\n",
            "    boost-1.70.0               |   py37h9de70de_1         337 KB  conda-forge\n",
            "    boost-cpp-1.70.0           |       h7b93d67_3        21.1 MB  conda-forge\n",
            "    bottleneck-1.3.2           |   py37h902c9e0_3         129 KB  conda-forge\n",
            "    bzip2-1.0.8                |       h7f98852_4         484 KB  conda-forge\n",
            "    ca-certificates-2021.10.8  |       ha878542_0         139 KB  conda-forge\n",
            "    cairo-1.16.0               |    h9f066cc_1006         1.5 MB  conda-forge\n",
            "    certifi-2021.10.8          |   py37h89c1867_2         145 KB  conda-forge\n",
            "    conda-4.12.0               |   py37h89c1867_0         1.0 MB  conda-forge\n",
            "    fontconfig-2.13.1          |    hba837de_1005         357 KB  conda-forge\n",
            "    freetype-2.10.4            |       h0708190_1         890 KB  conda-forge\n",
            "    gettext-0.19.8.1           |    h0b5b191_1005         3.6 MB  conda-forge\n",
            "    icu-67.1                   |       he1b5a44_0        12.9 MB  conda-forge\n",
            "    jpeg-9d                    |       h36c2ea0_0         264 KB  conda-forge\n",
            "    lcms2-2.12                 |       hddcbb42_0         443 KB  conda-forge\n",
            "    libblas-3.9.0              |11_linux64_openblas          12 KB  conda-forge\n",
            "    libcblas-3.9.0             |11_linux64_openblas          11 KB  conda-forge\n",
            "    libgfortran-ng-12.1.0      |      h69a702a_16          23 KB  conda-forge\n",
            "    libgfortran5-12.1.0        |      hdcd56e2_16         1.8 MB  conda-forge\n",
            "    libglib-2.68.3             |       h3e27bee_0         3.1 MB  conda-forge\n",
            "    libiconv-1.16              |       h516909a_0         1.4 MB  conda-forge\n",
            "    liblapack-3.9.0            |11_linux64_openblas          11 KB  conda-forge\n",
            "    libopenblas-0.3.17         |pthreads_h8fe5266_1         9.2 MB  conda-forge\n",
            "    libpng-1.6.37              |       h21135ba_2         306 KB  conda-forge\n",
            "    libtiff-4.2.0              |       hbd63e13_2         639 KB  conda-forge\n",
            "    libuuid-2.32.1             |    h7f98852_1000          28 KB  conda-forge\n",
            "    libwebp-base-1.2.0         |       h7f98852_2         815 KB  conda-forge\n",
            "    libxcb-1.13                |    h7f98852_1003         395 KB  conda-forge\n",
            "    libxml2-2.9.10             |       h68273f3_2         1.3 MB  conda-forge\n",
            "    lz4-c-1.9.3                |       h9c3ff4c_1         179 KB  conda-forge\n",
            "    numexpr-2.7.3              |   py37hdc94413_0         201 KB  conda-forge\n",
            "    numpy-1.21.1               |   py37h038b26d_0         6.1 MB  conda-forge\n",
            "    olefile-0.46               |     pyh9f0ad1d_1          32 KB  conda-forge\n",
            "    openjpeg-2.4.0             |       hb52868f_1         444 KB  conda-forge\n",
            "    openssl-1.1.1o             |       h7f8727e_0         2.5 MB\n",
            "    pandas-1.3.5               |   py37h8c16a72_0         9.3 MB\n",
            "    pcre-8.45                  |       h9c3ff4c_0         253 KB  conda-forge\n",
            "    pillow-8.2.0               |   py37h4600e1f_1         684 KB  conda-forge\n",
            "    pixman-0.40.0              |       h36c2ea0_0         627 KB  conda-forge\n",
            "    pthread-stubs-0.4          |    h36c2ea0_1001           5 KB  conda-forge\n",
            "    pycairo-1.20.1             |   py37hfff247e_0          77 KB  conda-forge\n",
            "    python-dateutil-2.8.2      |     pyhd8ed1ab_0         240 KB  conda-forge\n",
            "    python_abi-3.7             |          2_cp37m           4 KB  conda-forge\n",
            "    pytz-2022.1                |     pyhd8ed1ab_0         242 KB  conda-forge\n",
            "    rdkit-2019.03.4            |   py37hb31dc5d_1        23.3 MB  conda-forge\n",
            "    xorg-kbproto-1.0.7         |    h7f98852_1002          27 KB  conda-forge\n",
            "    xorg-libice-1.0.10         |       h7f98852_0          58 KB  conda-forge\n",
            "    xorg-libsm-1.2.3           |    hd9c2040_1000          26 KB  conda-forge\n",
            "    xorg-libx11-1.7.2          |       h7f98852_0         941 KB  conda-forge\n",
            "    xorg-libxau-1.0.9          |       h7f98852_0          13 KB  conda-forge\n",
            "    xorg-libxdmcp-1.1.3        |       h7f98852_0          19 KB  conda-forge\n",
            "    xorg-libxext-1.3.4         |       h7f98852_1          54 KB  conda-forge\n",
            "    xorg-libxrender-0.9.10     |    h7f98852_1003          32 KB  conda-forge\n",
            "    xorg-renderproto-0.11.1    |    h7f98852_1002           9 KB  conda-forge\n",
            "    xorg-xextproto-7.3.0       |    h7f98852_1002          28 KB  conda-forge\n",
            "    xorg-xproto-7.0.31         |    h7f98852_1007          73 KB  conda-forge\n",
            "    zstd-1.4.9                 |       ha95c52a_0         431 KB  conda-forge\n",
            "    ------------------------------------------------------------\n",
            "                                           Total:       107.9 MB\n",
            "\n",
            "The following NEW packages will be INSTALLED:\n",
            "\n",
            "  boost              conda-forge/linux-64::boost-1.70.0-py37h9de70de_1\n",
            "  boost-cpp          conda-forge/linux-64::boost-cpp-1.70.0-h7b93d67_3\n",
            "  bottleneck         conda-forge/linux-64::bottleneck-1.3.2-py37h902c9e0_3\n",
            "  bzip2              conda-forge/linux-64::bzip2-1.0.8-h7f98852_4\n",
            "  cairo              conda-forge/linux-64::cairo-1.16.0-h9f066cc_1006\n",
            "  fontconfig         conda-forge/linux-64::fontconfig-2.13.1-hba837de_1005\n",
            "  freetype           conda-forge/linux-64::freetype-2.10.4-h0708190_1\n",
            "  gettext            conda-forge/linux-64::gettext-0.19.8.1-h0b5b191_1005\n",
            "  icu                conda-forge/linux-64::icu-67.1-he1b5a44_0\n",
            "  jpeg               conda-forge/linux-64::jpeg-9d-h36c2ea0_0\n",
            "  lcms2              conda-forge/linux-64::lcms2-2.12-hddcbb42_0\n",
            "  libblas            conda-forge/linux-64::libblas-3.9.0-11_linux64_openblas\n",
            "  libcblas           conda-forge/linux-64::libcblas-3.9.0-11_linux64_openblas\n",
            "  libgfortran-ng     conda-forge/linux-64::libgfortran-ng-12.1.0-h69a702a_16\n",
            "  libgfortran5       conda-forge/linux-64::libgfortran5-12.1.0-hdcd56e2_16\n",
            "  libglib            conda-forge/linux-64::libglib-2.68.3-h3e27bee_0\n",
            "  libiconv           conda-forge/linux-64::libiconv-1.16-h516909a_0\n",
            "  liblapack          conda-forge/linux-64::liblapack-3.9.0-11_linux64_openblas\n",
            "  libopenblas        conda-forge/linux-64::libopenblas-0.3.17-pthreads_h8fe5266_1\n",
            "  libpng             conda-forge/linux-64::libpng-1.6.37-h21135ba_2\n",
            "  libtiff            conda-forge/linux-64::libtiff-4.2.0-hbd63e13_2\n",
            "  libuuid            conda-forge/linux-64::libuuid-2.32.1-h7f98852_1000\n",
            "  libwebp-base       conda-forge/linux-64::libwebp-base-1.2.0-h7f98852_2\n",
            "  libxcb             conda-forge/linux-64::libxcb-1.13-h7f98852_1003\n",
            "  libxml2            conda-forge/linux-64::libxml2-2.9.10-h68273f3_2\n",
            "  lz4-c              conda-forge/linux-64::lz4-c-1.9.3-h9c3ff4c_1\n",
            "  numexpr            conda-forge/linux-64::numexpr-2.7.3-py37hdc94413_0\n",
            "  numpy              conda-forge/linux-64::numpy-1.21.1-py37h038b26d_0\n",
            "  olefile            conda-forge/noarch::olefile-0.46-pyh9f0ad1d_1\n",
            "  openjpeg           conda-forge/linux-64::openjpeg-2.4.0-hb52868f_1\n",
            "  pandas             pkgs/main/linux-64::pandas-1.3.5-py37h8c16a72_0\n",
            "  pcre               conda-forge/linux-64::pcre-8.45-h9c3ff4c_0\n",
            "  pillow             conda-forge/linux-64::pillow-8.2.0-py37h4600e1f_1\n",
            "  pixman             conda-forge/linux-64::pixman-0.40.0-h36c2ea0_0\n",
            "  pthread-stubs      conda-forge/linux-64::pthread-stubs-0.4-h36c2ea0_1001\n",
            "  pycairo            conda-forge/linux-64::pycairo-1.20.1-py37hfff247e_0\n",
            "  python-dateutil    conda-forge/noarch::python-dateutil-2.8.2-pyhd8ed1ab_0\n",
            "  python_abi         conda-forge/linux-64::python_abi-3.7-2_cp37m\n",
            "  pytz               conda-forge/noarch::pytz-2022.1-pyhd8ed1ab_0\n",
            "  rdkit              conda-forge/linux-64::rdkit-2019.03.4-py37hb31dc5d_1\n",
            "  xorg-kbproto       conda-forge/linux-64::xorg-kbproto-1.0.7-h7f98852_1002\n",
            "  xorg-libice        conda-forge/linux-64::xorg-libice-1.0.10-h7f98852_0\n",
            "  xorg-libsm         conda-forge/linux-64::xorg-libsm-1.2.3-hd9c2040_1000\n",
            "  xorg-libx11        conda-forge/linux-64::xorg-libx11-1.7.2-h7f98852_0\n",
            "  xorg-libxau        conda-forge/linux-64::xorg-libxau-1.0.9-h7f98852_0\n",
            "  xorg-libxdmcp      conda-forge/linux-64::xorg-libxdmcp-1.1.3-h7f98852_0\n",
            "  xorg-libxext       conda-forge/linux-64::xorg-libxext-1.3.4-h7f98852_1\n",
            "  xorg-libxrender    conda-forge/linux-64::xorg-libxrender-0.9.10-h7f98852_1003\n",
            "  xorg-renderproto   conda-forge/linux-64::xorg-renderproto-0.11.1-h7f98852_1002\n",
            "  xorg-xextproto     conda-forge/linux-64::xorg-xextproto-7.3.0-h7f98852_1002\n",
            "  xorg-xproto        conda-forge/linux-64::xorg-xproto-7.0.31-h7f98852_1007\n",
            "  zstd               conda-forge/linux-64::zstd-1.4.9-ha95c52a_0\n",
            "\n",
            "The following packages will be UPDATED:\n",
            "\n",
            "  openssl                                 1.1.1n-h7f8727e_0 --> 1.1.1o-h7f8727e_0\n",
            "\n",
            "The following packages will be SUPERSEDED by a higher-priority channel:\n",
            "\n",
            "  ca-certificates    pkgs/main::ca-certificates-2022.3.29-~ --> conda-forge::ca-certificates-2021.10.8-ha878542_0\n",
            "  certifi            pkgs/main::certifi-2021.10.8-py37h06a~ --> conda-forge::certifi-2021.10.8-py37h89c1867_2\n",
            "  conda              pkgs/main::conda-4.12.0-py37h06a4308_0 --> conda-forge::conda-4.12.0-py37h89c1867_0\n",
            "\n",
            "\n",
            "Preparing transaction: ...working... done\n",
            "Verifying transaction: ...working... done\n",
            "Executing transaction: ...working... done\n",
            "\n",
            "real\t2m48.141s\n",
            "user\t2m29.771s\n",
            "sys\t0m12.717s\n"
          ]
        }
      ]
    },
    {
      "cell_type": "markdown",
      "source": [
        "## RDKit 불러오기\n"
      ],
      "metadata": {
        "id": "azGOSCVm_ZZD"
      }
    },
    {
      "cell_type": "code",
      "source": [
        "import sys\n",
        "sys.path.append('/usr/local/lib/python3.7/site-packages/')\n",
        "\n",
        "from rdkit import Chem\n",
        "from rdkit.Chem import AllChem\n",
        "from rdkit.Chem.Draw import IPythonConsole"
      ],
      "metadata": {
        "id": "eD7mwiUHph-v"
      },
      "execution_count": 45,
      "outputs": []
    },
    {
      "cell_type": "markdown",
      "source": [
        "## MDL Mol 파일을 읽고 쓰기를 해보자"
      ],
      "metadata": {
        "id": "riSyuceA_lm0"
      }
    },
    {
      "cell_type": "markdown",
      "source": [
        "벤젠 분자를 만들어 보자 (SMILES 코드를 이용하자)"
      ],
      "metadata": {
        "id": "NE0L5j3jI2i2"
      }
    },
    {
      "cell_type": "code",
      "source": [
        "theBenzeneMol = Chem.MolFromSmiles('c1ccccc1')\n",
        "theBenzeneMol"
      ],
      "metadata": {
        "colab": {
          "base_uri": "https://localhost:8080/",
          "height": 167
        },
        "id": "SvD6T-VL_mI6",
        "outputId": "4c4e2529-c687-4ea4-cfea-0bfb486827f0"
      },
      "execution_count": 13,
      "outputs": [
        {
          "output_type": "execute_result",
          "data": {
            "text/plain": [
              "<rdkit.Chem.rdchem.Mol at 0x7feaba264940>"
            ],
            "image/png": "[encoded data removed]"
          },
          "metadata": {},
          "execution_count": 13
        }
      ]
    },
    {
      "cell_type": "markdown",
      "source": [
        "MDL Molfile 문자열 만들기"
      ],
      "metadata": {
        "id": "4w83GtTY_mSK"
      }
    },
    {
      "cell_type": "code",
      "source": [
        "theBenzeneMolBlock = Chem.MolToMolBlock(theBenzeneMol)\n",
        "print(theBenzeneMolBlock)"
      ],
      "metadata": {
        "colab": {
          "base_uri": "https://localhost:8080/"
        },
        "id": "gf9sGdGJ_mbN",
        "outputId": "931713ef-4be4-4c51-cf7e-1d957677558f"
      },
      "execution_count": 16,
      "outputs": [
        {
          "output_type": "stream",
          "name": "stdout",
          "text": [
            "\n",
            "     RDKit          2D\n",
            "\n",
            "  6  6  0  0  0  0  0  0  0  0999 V2000\n",
            "    1.5000    0.0000    0.0000 C   0  0  0  0  0  0  0  0  0  0  0  0\n",
            "    0.7500   -1.2990    0.0000 C   0  0  0  0  0  0  0  0  0  0  0  0\n",
            "   -0.7500   -1.2990    0.0000 C   0  0  0  0  0  0  0  0  0  0  0  0\n",
            "   -1.5000    0.0000    0.0000 C   0  0  0  0  0  0  0  0  0  0  0  0\n",
            "   -0.7500    1.2990    0.0000 C   0  0  0  0  0  0  0  0  0  0  0  0\n",
            "    0.7500    1.2990    0.0000 C   0  0  0  0  0  0  0  0  0  0  0  0\n",
            "  1  2  2  0\n",
            "  2  3  1  0\n",
            "  3  4  2  0\n",
            "  4  5  1  0\n",
            "  5  6  2  0\n",
            "  6  1  1  0\n",
            "M  END\n",
            "\n"
          ]
        }
      ]
    },
    {
      "cell_type": "markdown",
      "source": [
        "분자 이름 변경하기"
      ],
      "metadata": {
        "id": "ZwUig8v4_miK"
      }
    },
    {
      "cell_type": "code",
      "source": [
        "theBenzeneMol.SetProp('_Name','Benzene')\n",
        "print(Chem.MolToMolBlock(theBenzeneMol))"
      ],
      "metadata": {
        "colab": {
          "base_uri": "https://localhost:8080/"
        },
        "id": "_VNyYRlk_msJ",
        "outputId": "a607963d-fa1e-406c-e6a0-d34a7dcba3ba"
      },
      "execution_count": 19,
      "outputs": [
        {
          "output_type": "stream",
          "name": "stdout",
          "text": [
            "Benzene\n",
            "     RDKit          2D\n",
            "\n",
            "  6  6  0  0  0  0  0  0  0  0999 V2000\n",
            "    1.5000    0.0000    0.0000 C   0  0  0  0  0  0  0  0  0  0  0  0\n",
            "    0.7500   -1.2990    0.0000 C   0  0  0  0  0  0  0  0  0  0  0  0\n",
            "   -0.7500   -1.2990    0.0000 C   0  0  0  0  0  0  0  0  0  0  0  0\n",
            "   -1.5000    0.0000    0.0000 C   0  0  0  0  0  0  0  0  0  0  0  0\n",
            "   -0.7500    1.2990    0.0000 C   0  0  0  0  0  0  0  0  0  0  0  0\n",
            "    0.7500    1.2990    0.0000 C   0  0  0  0  0  0  0  0  0  0  0  0\n",
            "  1  2  2  0\n",
            "  2  3  1  0\n",
            "  3  4  2  0\n",
            "  4  5  1  0\n",
            "  5  6  2  0\n",
            "  6  1  1  0\n",
            "M  END\n",
            "\n"
          ]
        }
      ]
    },
    {
      "cell_type": "markdown",
      "source": [
        "분자를 MDL Mol파일로 저장하기\n"
      ],
      "metadata": {
        "id": "rGNC1gFSBW70"
      }
    },
    {
      "cell_type": "code",
      "source": [
        "print(Chem.MolToMolBlock(theBenzeneMol),file=open('benzene.mol', 'w+'))"
      ],
      "metadata": {
        "id": "mxneP5QkBXN3"
      },
      "execution_count": 26,
      "outputs": []
    },
    {
      "cell_type": "markdown",
      "source": [
        "MDL Mol 파일 불러오기"
      ],
      "metadata": {
        "id": "dqdGRNVCBXV6"
      }
    },
    {
      "cell_type": "code",
      "source": [
        "theNewBenzeneMol = Chem.MolFromMolFile('benzene.mol')\n",
        "theNewBenzeneMol"
      ],
      "metadata": {
        "colab": {
          "base_uri": "https://localhost:8080/",
          "height": 167
        },
        "id": "8hK8FXYKBXd0",
        "outputId": "34bca40e-a3de-4573-fb74-2cc6fe53912a"
      },
      "execution_count": 27,
      "outputs": [
        {
          "output_type": "execute_result",
          "data": {
            "text/plain": [
              "<rdkit.Chem.rdchem.Mol at 0x7feaba14a2b0>"
            ],
            "image/png": "[encoded data removed]"
          },
          "metadata": {},
          "execution_count": 27
        }
      ]
    },
    {
      "cell_type": "markdown",
      "source": [
        "잘못된 분자구조를 읽어오려고 하면, 오류 메세지와 함께 Mol 객체는 None을 나타냄"
      ],
      "metadata": {
        "id": "d2MaYJRoBXlS"
      }
    },
    {
      "cell_type": "code",
      "source": [
        "theInvalidMolecule1 = Chem.MolFromSmiles('CO(C)C')\n",
        "theInvalidMolecule1 is None"
      ],
      "metadata": {
        "colab": {
          "base_uri": "https://localhost:8080/"
        },
        "id": "_uLnzZz-BXtG",
        "outputId": "d1473987-96df-4679-d51a-d038e7b330fe"
      },
      "execution_count": 33,
      "outputs": [
        {
          "output_type": "stream",
          "name": "stderr",
          "text": [
            "RDKit ERROR: [02:49:51] Explicit valence for atom # 1 O, 3, is greater than permitted\n"
          ]
        },
        {
          "output_type": "execute_result",
          "data": {
            "text/plain": [
              "True"
            ]
          },
          "metadata": {},
          "execution_count": 33
        }
      ]
    },
    {
      "cell_type": "markdown",
      "source": [
        "잘못된 분자구조를 읽어오려고 하면, 오류 메세지와 함께 Mol 객체는 None을 나타냄 (Kekulize 오류)"
      ],
      "metadata": {
        "id": "I3nSsWIxBX3G"
      }
    },
    {
      "cell_type": "code",
      "source": [
        "theInvalidMolecule1 = Chem.MolFromSmiles('c1cc1')\n",
        "theInvalidMolecule1 is None"
      ],
      "metadata": {
        "colab": {
          "base_uri": "https://localhost:8080/"
        },
        "id": "3CP00cocBX-b",
        "outputId": "e17eb692-dd43-4376-8002-9b1b11abbb8c"
      },
      "execution_count": 34,
      "outputs": [
        {
          "output_type": "stream",
          "name": "stderr",
          "text": [
            "RDKit ERROR: [02:50:03] Can't kekulize mol.  Unkekulized atoms: 0 1 2\n",
            "RDKit ERROR: \n"
          ]
        },
        {
          "output_type": "execute_result",
          "data": {
            "text/plain": [
              "True"
            ]
          },
          "metadata": {},
          "execution_count": 34
        }
      ]
    },
    {
      "cell_type": "markdown",
      "source": [
        "## RDKit Mol 객체 다루기!!!\n",
        "분자의 원자 개수 확인"
      ],
      "metadata": {
        "id": "qiv1lS6nBYEg"
      }
    },
    {
      "cell_type": "code",
      "source": [
        "theNumOfAtoms = theBenzeneMol.GetNumAtoms()\n",
        "theNumOfAtoms"
      ],
      "metadata": {
        "colab": {
          "base_uri": "https://localhost:8080/"
        },
        "id": "cU1swyK4BYK8",
        "outputId": "8281fa67-a3a9-4c41-f8b5-1c9736d6decb"
      },
      "execution_count": 39,
      "outputs": [
        {
          "output_type": "execute_result",
          "data": {
            "text/plain": [
              "6"
            ]
          },
          "metadata": {},
          "execution_count": 39
        }
      ]
    },
    {
      "cell_type": "markdown",
      "source": [
        "분자의 Bond 개수 확인"
      ],
      "metadata": {
        "id": "WKb90H5TBYRK"
      }
    },
    {
      "cell_type": "code",
      "source": [
        "theNumOfBonds = theBenzeneMol.GetNumBonds()\n",
        "theNumOfBonds"
      ],
      "metadata": {
        "colab": {
          "base_uri": "https://localhost:8080/"
        },
        "id": "7_-rZm9hBYXP",
        "outputId": "43d570ff-3a5e-4e1d-cef6-4a4cabeb519e"
      },
      "execution_count": 38,
      "outputs": [
        {
          "output_type": "execute_result",
          "data": {
            "text/plain": [
              "6"
            ]
          },
          "metadata": {},
          "execution_count": 38
        }
      ]
    },
    {
      "cell_type": "markdown",
      "source": [
        "분자에 H원자 붙이기"
      ],
      "metadata": {
        "id": "IMdq_Dm0FOCm"
      }
    },
    {
      "cell_type": "code",
      "source": [
        "theBenzeneMolWithHAtoms = Chem.AddHs(theBenzeneMol)\n",
        "theBenzeneMolWithHAtoms"
      ],
      "metadata": {
        "colab": {
          "base_uri": "https://localhost:8080/",
          "height": 167
        },
        "id": "6jjafjQuFOJQ",
        "outputId": "064dfff1-a7fc-40fa-98b6-819cf43c3cc3"
      },
      "execution_count": 40,
      "outputs": [
        {
          "output_type": "execute_result",
          "data": {
            "text/plain": [
              "<rdkit.Chem.rdchem.Mol at 0x7feaba1d4d50>"
            ],
            "image/png": "[encoded data removed]"
          },
          "metadata": {},
          "execution_count": 40
        }
      ]
    },
    {
      "cell_type": "markdown",
      "source": [
        "분자구조의 위치를 3차원 좌표값으로 만들기"
      ],
      "metadata": {
        "id": "HkjCc6NHGOIi"
      }
    },
    {
      "cell_type": "code",
      "source": [
        "AllChem.EmbedMolecule(theBenzeneMolWithHAtoms)  \n",
        "print(Chem.MolToMolBlock(theBenzeneMolWithHAtoms))\n",
        "theBenzeneMolWithHAtoms"
      ],
      "metadata": {
        "colab": {
          "base_uri": "https://localhost:8080/",
          "height": 728
        },
        "id": "zwtPE7e6GOer",
        "outputId": "5b1f62d3-a1fb-48b9-f87f-b6debdab1600"
      },
      "execution_count": 49,
      "outputs": [
        {
          "output_type": "stream",
          "name": "stdout",
          "text": [
            "Benzene\n",
            "     RDKit          3D\n",
            "\n",
            " 12 12  0  0  0  0  0  0  0  0999 V2000\n",
            "    0.7943   -1.1490    0.0150 C   0  0  0  0  0  0  0  0  0  0  0  0\n",
            "    1.3607    0.1298   -0.0022 C   0  0  0  0  0  0  0  0  0  0  0  0\n",
            "    0.5898    1.2681   -0.0170 C   0  0  0  0  0  0  0  0  0  0  0  0\n",
            "   -0.7866    1.1450   -0.0149 C   0  0  0  0  0  0  0  0  0  0  0  0\n",
            "   -1.3413   -0.1124    0.0019 C   0  0  0  0  0  0  0  0  0  0  0  0\n",
            "   -0.5806   -1.2656    0.0170 C   0  0  0  0  0  0  0  0  0  0  0  0\n",
            "    1.4026   -2.0428    0.0267 H   0  0  0  0  0  0  0  0  0  0  0  0\n",
            "    2.4183    0.2113   -0.0036 H   0  0  0  0  0  0  0  0  0  0  0  0\n",
            "    1.0075    2.2686   -0.0304 H   0  0  0  0  0  0  0  0  0  0  0  0\n",
            "   -1.4182    2.0293   -0.0265 H   0  0  0  0  0  0  0  0  0  0  0  0\n",
            "   -2.4222   -0.2172    0.0037 H   0  0  0  0  0  0  0  0  0  0  0  0\n",
            "   -1.0241   -2.2652    0.0304 H   0  0  0  0  0  0  0  0  0  0  0  0\n",
            "  1  2  2  0\n",
            "  2  3  1  0\n",
            "  3  4  2  0\n",
            "  4  5  1  0\n",
            "  5  6  2  0\n",
            "  6  1  1  0\n",
            "  1  7  1  0\n",
            "  2  8  1  0\n",
            "  3  9  1  0\n",
            "  4 10  1  0\n",
            "  5 11  1  0\n",
            "  6 12  1  0\n",
            "M  END\n",
            "\n"
          ]
        },
        {
          "output_type": "execute_result",
          "data": {
            "text/plain": [
              "<rdkit.Chem.rdchem.Mol at 0x7feaba1d4d50>"
            ],
            "image/png": "[encoded data removed]"
          },
          "metadata": {},
          "execution_count": 49
        }
      ]
    },
    {
      "cell_type": "markdown",
      "source": [
        "분자구조를 2차원으로 만들기"
      ],
      "metadata": {
        "id": "NGLUbayuHRHx"
      }
    },
    {
      "cell_type": "code",
      "source": [
        "AllChem.Compute2DCoords(theBenzeneMolWithHAtoms)\n",
        "print(Chem.MolToMolBlock(theBenzeneMolWithHAtoms))\n",
        "theBenzeneMolWithHAtoms"
      ],
      "metadata": {
        "colab": {
          "base_uri": "https://localhost:8080/",
          "height": 728
        },
        "id": "ifvi4g6-HRQM",
        "outputId": "8752cfbe-415d-44df-f4c8-a69e4b47d2a1"
      },
      "execution_count": 50,
      "outputs": [
        {
          "output_type": "stream",
          "name": "stdout",
          "text": [
            "Benzene\n",
            "     RDKit          2D\n",
            "\n",
            " 12 12  0  0  0  0  0  0  0  0999 V2000\n",
            "    1.5000    0.0000    0.0000 C   0  0  0  0  0  0  0  0  0  0  0  0\n",
            "    0.7500   -1.2990    0.0000 C   0  0  0  0  0  0  0  0  0  0  0  0\n",
            "   -0.7500   -1.2990    0.0000 C   0  0  0  0  0  0  0  0  0  0  0  0\n",
            "   -1.5000    0.0000    0.0000 C   0  0  0  0  0  0  0  0  0  0  0  0\n",
            "   -0.7500    1.2990    0.0000 C   0  0  0  0  0  0  0  0  0  0  0  0\n",
            "    0.7500    1.2990    0.0000 C   0  0  0  0  0  0  0  0  0  0  0  0\n",
            "    3.0000    0.0000    0.0000 H   0  0  0  0  0  0  0  0  0  0  0  0\n",
            "    1.5000   -2.5981    0.0000 H   0  0  0  0  0  0  0  0  0  0  0  0\n",
            "   -1.5000   -2.5981    0.0000 H   0  0  0  0  0  0  0  0  0  0  0  0\n",
            "   -3.0000    0.0000    0.0000 H   0  0  0  0  0  0  0  0  0  0  0  0\n",
            "   -1.5000    2.5981    0.0000 H   0  0  0  0  0  0  0  0  0  0  0  0\n",
            "    1.5000    2.5981    0.0000 H   0  0  0  0  0  0  0  0  0  0  0  0\n",
            "  1  2  2  0\n",
            "  2  3  1  0\n",
            "  3  4  2  0\n",
            "  4  5  1  0\n",
            "  5  6  2  0\n",
            "  6  1  1  0\n",
            "  1  7  1  0\n",
            "  2  8  1  0\n",
            "  3  9  1  0\n",
            "  4 10  1  0\n",
            "  5 11  1  0\n",
            "  6 12  1  0\n",
            "M  END\n",
            "\n"
          ]
        },
        {
          "output_type": "execute_result",
          "data": {
            "text/plain": [
              "<rdkit.Chem.rdchem.Mol at 0x7feaba1d4d50>"
            ],
            "image/png": "[encoded data removed]"
          },
          "metadata": {},
          "execution_count": 50
        }
      ]
    },
    {
      "cell_type": "markdown",
      "source": [
        "H원자 지우기"
      ],
      "metadata": {
        "id": "pw-VDMSHFOQP"
      }
    },
    {
      "cell_type": "code",
      "source": [
        "theBenzeneMol2 = Chem.RemoveHs(theBenzeneMolWithHAtoms)\n",
        "print(Chem.MolToMolBlock(theBenzeneMol2))\n",
        "theBenzeneMol2"
      ],
      "metadata": {
        "colab": {
          "base_uri": "https://localhost:8080/",
          "height": 503
        },
        "id": "qW-5-wonFOWm",
        "outputId": "93433ddc-db52-4937-8fd0-e9bd9849a703"
      },
      "execution_count": 51,
      "outputs": [
        {
          "output_type": "stream",
          "name": "stdout",
          "text": [
            "Benzene\n",
            "     RDKit          2D\n",
            "\n",
            "  6  6  0  0  0  0  0  0  0  0999 V2000\n",
            "    1.5000    0.0000    0.0000 C   0  0  0  0  0  0  0  0  0  0  0  0\n",
            "    0.7500   -1.2990    0.0000 C   0  0  0  0  0  0  0  0  0  0  0  0\n",
            "   -0.7500   -1.2990    0.0000 C   0  0  0  0  0  0  0  0  0  0  0  0\n",
            "   -1.5000    0.0000    0.0000 C   0  0  0  0  0  0  0  0  0  0  0  0\n",
            "   -0.7500    1.2990    0.0000 C   0  0  0  0  0  0  0  0  0  0  0  0\n",
            "    0.7500    1.2990    0.0000 C   0  0  0  0  0  0  0  0  0  0  0  0\n",
            "  1  2  2  0\n",
            "  2  3  1  0\n",
            "  3  4  2  0\n",
            "  4  5  1  0\n",
            "  5  6  2  0\n",
            "  6  1  1  0\n",
            "M  END\n",
            "\n"
          ]
        },
        {
          "output_type": "execute_result",
          "data": {
            "text/plain": [
              "<rdkit.Chem.rdchem.Mol at 0x7feab9c382b0>"
            ],
            "image/png": "[encoded data removed]"
          },
          "metadata": {},
          "execution_count": 51
        }
      ]
    },
    {
      "cell_type": "markdown",
      "source": [
        "## Atom과 Bond 다루기"
      ],
      "metadata": {
        "id": "0Gn8xoIJQfFM"
      }
    },
    {
      "cell_type": "markdown",
      "source": [
        "원자번호 및 원소기호 출력"
      ],
      "metadata": {
        "id": "AG_nHv2TRH_Q"
      }
    },
    {
      "cell_type": "code",
      "source": [
        "#GetAtoms()\n",
        "\n",
        "for index, ithAtom in enumerate(theBenzeneMolWithHAtoms.GetAtoms()):\n",
        "  print(str(index+1).zfill(2), '원자번호: {0}, 원소기호: {1}'.format(ithAtom.GetAtomicNum(), ithAtom.GetSymbol()))\n"
      ],
      "metadata": {
        "colab": {
          "base_uri": "https://localhost:8080/"
        },
        "id": "1lVzR4UKQdY1",
        "outputId": "f491ce13-849d-4726-f250-2cbe83eb2138"
      },
      "execution_count": 81,
      "outputs": [
        {
          "output_type": "stream",
          "name": "stdout",
          "text": [
            "01 원자번호: 6, 원소기호: C\n",
            "02 원자번호: 6, 원소기호: C\n",
            "03 원자번호: 6, 원소기호: C\n",
            "04 원자번호: 6, 원소기호: C\n",
            "05 원자번호: 6, 원소기호: C\n",
            "06 원자번호: 6, 원소기호: C\n",
            "07 원자번호: 1, 원소기호: H\n",
            "08 원자번호: 1, 원소기호: H\n",
            "09 원자번호: 1, 원소기호: H\n",
            "10 원자번호: 1, 원소기호: H\n",
            "11 원자번호: 1, 원소기호: H\n",
            "12 원자번호: 1, 원소기호: H\n"
          ]
        }
      ]
    },
    {
      "cell_type": "markdown",
      "source": [
        "Bond 정보 출력"
      ],
      "metadata": {
        "id": "oIPfSZH7Qd27"
      }
    },
    {
      "cell_type": "code",
      "source": [
        "#GetBonds()\n",
        "\n",
        "for index, ithBond in enumerate(theBenzeneMolWithHAtoms.GetBonds()):\n",
        "  print(str(index+1).zfill(2), '\\t시작: {0}, 끝: {1}, Type: {2}'.format( str(ithBond.GetBeginAtomIdx()).zfill(2), str(ithBond.GetEndAtomIdx()).zfill(2), ithBond.GetBondType()))\n"
      ],
      "metadata": {
        "colab": {
          "base_uri": "https://localhost:8080/"
        },
        "id": "kQfdvGBoQgWa",
        "outputId": "996eb779-22ad-4bc6-c820-0173e2b158b3"
      },
      "execution_count": 89,
      "outputs": [
        {
          "output_type": "stream",
          "name": "stdout",
          "text": [
            "01 \t시작: 00, 끝: 01, Type: AROMATIC\n",
            "02 \t시작: 01, 끝: 02, Type: AROMATIC\n",
            "03 \t시작: 02, 끝: 03, Type: AROMATIC\n",
            "04 \t시작: 03, 끝: 04, Type: AROMATIC\n",
            "05 \t시작: 04, 끝: 05, Type: AROMATIC\n",
            "06 \t시작: 05, 끝: 00, Type: AROMATIC\n",
            "07 \t시작: 00, 끝: 06, Type: SINGLE\n",
            "08 \t시작: 01, 끝: 07, Type: SINGLE\n",
            "09 \t시작: 02, 끝: 08, Type: SINGLE\n",
            "10 \t시작: 03, 끝: 09, Type: SINGLE\n",
            "11 \t시작: 04, 끝: 10, Type: SINGLE\n",
            "12 \t시작: 05, 끝: 11, Type: SINGLE\n"
          ]
        }
      ]
    },
    {
      "cell_type": "markdown",
      "source": [
        "## SMILES 코드 다루기\n",
        "*   Chiral 표현\n",
        "\n"
      ],
      "metadata": {
        "id": "3xIFIukaFOd7"
      }
    },
    {
      "cell_type": "code",
      "source": [
        "theChiralMol = Chem.MolFromSmiles('C[C@H](O)c1ccccc1')\n",
        "print(Chem.MolToMolBlock(theChiralMol))\n",
        "theChiralMol"
      ],
      "metadata": {
        "colab": {
          "base_uri": "https://localhost:8080/",
          "height": 616
        },
        "id": "_TDo3bjKFOko",
        "outputId": "91fcdc86-cdaf-4822-d1c8-ff5791d7fc5b"
      },
      "execution_count": 58,
      "outputs": [
        {
          "output_type": "stream",
          "name": "stdout",
          "text": [
            "\n",
            "     RDKit          2D\n",
            "\n",
            "  9  9  0  0  0  0  0  0  0  0999 V2000\n",
            "    3.7500   -1.2990    0.0000 C   0  0  0  0  0  0  0  0  0  0  0  0\n",
            "    3.0000    0.0000    0.0000 C   0  0  0  0  0  0  0  0  0  0  0  0\n",
            "    3.7500    1.2990    0.0000 O   0  0  0  0  0  0  0  0  0  0  0  0\n",
            "    1.5000    0.0000    0.0000 C   0  0  0  0  0  0  0  0  0  0  0  0\n",
            "    0.7500   -1.2990    0.0000 C   0  0  0  0  0  0  0  0  0  0  0  0\n",
            "   -0.7500   -1.2990    0.0000 C   0  0  0  0  0  0  0  0  0  0  0  0\n",
            "   -1.5000    0.0000    0.0000 C   0  0  0  0  0  0  0  0  0  0  0  0\n",
            "   -0.7500    1.2990    0.0000 C   0  0  0  0  0  0  0  0  0  0  0  0\n",
            "    0.7500    1.2990    0.0000 C   0  0  0  0  0  0  0  0  0  0  0  0\n",
            "  2  1  1  1\n",
            "  2  3  1  0\n",
            "  2  4  1  0\n",
            "  4  5  2  0\n",
            "  5  6  1  0\n",
            "  6  7  2  0\n",
            "  7  8  1  0\n",
            "  8  9  2  0\n",
            "  9  4  1  0\n",
            "M  END\n",
            "\n"
          ]
        },
        {
          "output_type": "execute_result",
          "data": {
            "text/plain": [
              "<rdkit.Chem.rdchem.Mol at 0x7feab9c45d50>"
            ],
            "image/png": "[encoded data removed]"
          },
          "metadata": {},
          "execution_count": 58
        }
      ]
    },
    {
      "cell_type": "markdown",
      "source": [
        "Chiral 제거"
      ],
      "metadata": {
        "id": "FCR9wNpsFOqr"
      }
    },
    {
      "cell_type": "code",
      "source": [
        "theRemovedChiralMolSmiles = Chem.MolToSmiles(theChiralMol,isomericSmiles=False)\n",
        "theRemovedChiralMol = Chem.MolFromSmiles(theRemovedChiralMolSmiles)\n",
        "print(Chem.MolToMolBlock(theRemovedChiralMol))\n",
        "print(theRemovedChiralMolSmiles)\n",
        "theRemovedChiralMol"
      ],
      "metadata": {
        "colab": {
          "base_uri": "https://localhost:8080/",
          "height": 634
        },
        "id": "LI96s70mLIqk",
        "outputId": "dbcf810d-5d39-4ce2-f796-d8f20bc5d65d"
      },
      "execution_count": 68,
      "outputs": [
        {
          "output_type": "stream",
          "name": "stdout",
          "text": [
            "\n",
            "     RDKit          2D\n",
            "\n",
            "  9  9  0  0  0  0  0  0  0  0999 V2000\n",
            "    3.7500   -1.2990    0.0000 C   0  0  0  0  0  0  0  0  0  0  0  0\n",
            "    3.0000    0.0000    0.0000 C   0  0  0  0  0  0  0  0  0  0  0  0\n",
            "    3.7500    1.2990    0.0000 O   0  0  0  0  0  0  0  0  0  0  0  0\n",
            "    1.5000    0.0000    0.0000 C   0  0  0  0  0  0  0  0  0  0  0  0\n",
            "    0.7500   -1.2990    0.0000 C   0  0  0  0  0  0  0  0  0  0  0  0\n",
            "   -0.7500   -1.2990    0.0000 C   0  0  0  0  0  0  0  0  0  0  0  0\n",
            "   -1.5000    0.0000    0.0000 C   0  0  0  0  0  0  0  0  0  0  0  0\n",
            "   -0.7500    1.2990    0.0000 C   0  0  0  0  0  0  0  0  0  0  0  0\n",
            "    0.7500    1.2990    0.0000 C   0  0  0  0  0  0  0  0  0  0  0  0\n",
            "  1  2  1  0\n",
            "  2  3  1  0\n",
            "  2  4  1  0\n",
            "  4  5  2  0\n",
            "  5  6  1  0\n",
            "  6  7  2  0\n",
            "  7  8  1  0\n",
            "  8  9  2  0\n",
            "  9  4  1  0\n",
            "M  END\n",
            "\n",
            "CC(O)c1ccccc1\n"
          ]
        },
        {
          "output_type": "execute_result",
          "data": {
            "text/plain": [
              "<rdkit.Chem.rdchem.Mol at 0x7feaba276760>"
            ],
            "image/png": "[encoded data removed]"
          },
          "metadata": {},
          "execution_count": 68
        }
      ]
    },
    {
      "cell_type": "markdown",
      "source": [
        "* 기본 SMILES코드는 Canonical SMILES를 제공함"
      ],
      "metadata": {
        "id": "D7lnhxgyFO0_"
      }
    },
    {
      "cell_type": "code",
      "source": [
        "print(Chem.MolToSmiles(Chem.MolFromSmiles('C1=CC=CN=C1')))\n",
        "Chem.MolFromSmiles('C1=CC=CN=C1')"
      ],
      "metadata": {
        "colab": {
          "base_uri": "https://localhost:8080/",
          "height": 186
        },
        "id": "Z8Mkhtn_FO6X",
        "outputId": "18eabd46-b9b5-42b0-d86b-95dd28ec5d47"
      },
      "execution_count": 71,
      "outputs": [
        {
          "output_type": "stream",
          "name": "stdout",
          "text": [
            "c1ccncc1\n"
          ]
        },
        {
          "output_type": "execute_result",
          "data": {
            "text/plain": [
              "<rdkit.Chem.rdchem.Mol at 0x7feab9c06440>"
            ],
            "image/png": "[encoded data removed]"
          },
          "metadata": {},
          "execution_count": 71
        }
      ]
    },
    {
      "cell_type": "code",
      "source": [
        "print(Chem.MolToSmiles(Chem.MolFromSmiles('c1cccnc1')))\n",
        "Chem.MolFromSmiles('c1cccnc1')"
      ],
      "metadata": {
        "colab": {
          "base_uri": "https://localhost:8080/",
          "height": 186
        },
        "id": "uLG7H6ZsFPFL",
        "outputId": "b25d2547-b635-4445-9837-089a04a256e6"
      },
      "execution_count": 73,
      "outputs": [
        {
          "output_type": "stream",
          "name": "stdout",
          "text": [
            "c1ccncc1\n"
          ]
        },
        {
          "output_type": "execute_result",
          "data": {
            "text/plain": [
              "<rdkit.Chem.rdchem.Mol at 0x7feab9c386c0>"
            ],
            "image/png": "[encoded data removed]"
          },
          "metadata": {},
          "execution_count": 73
        }
      ]
    },
    {
      "cell_type": "code",
      "source": [
        "print(Chem.MolToSmiles(Chem.MolFromSmiles('n1ccccc1')))\n",
        "Chem.MolFromSmiles('n1ccccc1')"
      ],
      "metadata": {
        "colab": {
          "base_uri": "https://localhost:8080/",
          "height": 186
        },
        "id": "SRZ8NIS3FPQC",
        "outputId": "9ac0fac7-44ea-4337-91d6-fffd656320fe"
      },
      "execution_count": 72,
      "outputs": [
        {
          "output_type": "stream",
          "name": "stdout",
          "text": [
            "c1ccncc1\n"
          ]
        },
        {
          "output_type": "execute_result",
          "data": {
            "text/plain": [
              "<rdkit.Chem.rdchem.Mol at 0x7feab9c685d0>"
            ],
            "image/png": "[encoded data removed]"
          },
          "metadata": {},
          "execution_count": 72
        }
      ]
    },
    {
      "cell_type": "markdown",
      "source": [
        ""
      ],
      "metadata": {
        "id": "e2gBOIMpFPVm"
      }
    },
    {
      "cell_type": "code",
      "source": [
        ""
      ],
      "metadata": {
        "id": "lvGENakQFPaB"
      },
      "execution_count": null,
      "outputs": []
    },
    {
      "cell_type": "markdown",
      "source": [
        ""
      ],
      "metadata": {
        "id": "ArkEdX58N3IV"
      }
    },
    {
      "cell_type": "code",
      "source": [
        ""
      ],
      "metadata": {
        "id": "Pp9D0O8PN3PO"
      },
      "execution_count": null,
      "outputs": []
    },
    {
      "cell_type": "markdown",
      "source": [
        ""
      ],
      "metadata": {
        "id": "36juIogfN3VX"
      }
    },
    {
      "cell_type": "code",
      "source": [
        ""
      ],
      "metadata": {
        "id": "8Ez3-1qSN3cF"
      },
      "execution_count": null,
      "outputs": []
    },
    {
      "cell_type": "markdown",
      "source": [
        ""
      ],
      "metadata": {
        "id": "IxTiELIeN3h1"
      }
    },
    {
      "cell_type": "code",
      "source": [
        ""
      ],
      "metadata": {
        "id": "3PpdJ8VhN3or"
      },
      "execution_count": null,
      "outputs": []
    },
    {
      "cell_type": "markdown",
      "source": [
        ""
      ],
      "metadata": {
        "id": "2SDIrscSN3vQ"
      }
    },
    {
      "cell_type": "code",
      "source": [
        ""
      ],
      "metadata": {
        "id": "6ByIbcKwN31M"
      },
      "execution_count": null,
      "outputs": []
    }
  ]
}