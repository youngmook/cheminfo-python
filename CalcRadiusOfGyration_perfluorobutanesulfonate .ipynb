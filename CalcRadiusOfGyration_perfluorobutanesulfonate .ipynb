{
  "nbformat": 4,
  "nbformat_minor": 0,
  "metadata": {
    "colab": {
      "provenance": [],
      "authorship_tag": "ABX9TyM+l6a0SM0xCeM5pjrWRrgt",
      "include_colab_link": true
    },
    "kernelspec": {
      "name": "python3",
      "display_name": "Python 3"
    },
    "language_info": {
      "name": "python"
    }
  },
  "cells": [
    {
      "cell_type": "markdown",
      "metadata": {
        "id": "view-in-github",
        "colab_type": "text"
      },
      "source": [
        "<a href=\"https://colab.research.google.com/github/youngmook/cheminfo-python/blob/main/CalcRadiusOfGyration_perfluorobutanesulfonate%20.ipynb\" target=\"_parent\"><img src=\"https://colab.research.google.com/assets/colab-badge.svg\" alt=\"Open In Colab\"/></a>"
      ]
    },
    {
      "cell_type": "code",
      "execution_count": 1,
      "metadata": {
        "colab": {
          "base_uri": "https://localhost:8080/"
        },
        "id": "qwpjf_2lfRm4",
        "outputId": "1b3325d1-0b29-4cbe-eb0c-1b1f6c252c6a"
      },
      "outputs": [
        {
          "output_type": "stream",
          "name": "stdout",
          "text": [
            "Requirement already satisfied: rdkit-pypi in /usr/local/lib/python3.10/dist-packages (2022.9.5)\n",
            "Requirement already satisfied: numpy in /usr/local/lib/python3.10/dist-packages (from rdkit-pypi) (1.23.5)\n",
            "Requirement already satisfied: Pillow in /usr/local/lib/python3.10/dist-packages (from rdkit-pypi) (9.4.0)\n"
          ]
        }
      ],
      "source": [
        "!pip install rdkit-pypi"
      ]
    },
    {
      "cell_type": "code",
      "source": [
        "from rdkit import Chem\n",
        "from rdkit.Chem import AllChem\n",
        "from rdkit.Chem.Draw import IPythonConsole\n",
        "from  rdkit.Chem.rdMolDescriptors import CalcRadiusOfGyration\n"
      ],
      "metadata": {
        "id": "4XKxoCapfTuB"
      },
      "execution_count": 7,
      "outputs": []
    },
    {
      "cell_type": "code",
      "source": [
        "the_mol_block = '3741048\\n  -OEChem-02122422053D\\n\\n 17 16  0     0  0  0  0  0  0999 V2000\\n   -2.1366   -0.7035   -0.3567 S   0  0  0  0  0  0  0  0  0  0  0  0\\n   -0.4707    1.8316   -1.0186 F   0  0  0  0  0  0  0  0  0  0  0  0\\n    0.5998    1.8991    0.8687 F   0  0  0  0  0  0  0  0  0  0  0  0\\n   -0.6143   -0.3985    1.7062 F   0  0  0  0  0  0  0  0  0  0  0  0\\n   -1.8799    1.2957    1.2314 F   0  0  0  0  0  0  0  0  0  0  0  0\\n    0.7124   -0.5316   -1.6698 F   0  0  0  0  0  0  0  0  0  0  0  0\\n    2.0552    1.1097   -1.2101 F   0  0  0  0  0  0  0  0  0  0  0  0\\n    1.1709   -1.5602    0.8975 F   0  0  0  0  0  0  0  0  0  0  0  0\\n    2.9607   -1.3092   -0.3238 F   0  0  0  0  0  0  0  0  0  0  0  0\\n    2.5293    0.1037    1.2716 F   0  0  0  0  0  0  0  0  0  0  0  0\\n   -1.2198   -1.7018   -0.9017 O   0  5  0  0  0  0  0  0  0  0  0  0\\n   -3.1400   -1.2223    0.5693 O   0  0  0  0  0  0  0  0  0  0  0  0\\n   -2.6583    0.2437   -1.3410 O   0  0  0  0  0  0  0  0  0  0  0  0\\n    0.0474    1.0383   -0.0381 C   0  0  0  0  0  0  0  0  0  0  0  0\\n   -1.1009    0.3266    0.6637 C   0  0  0  0  0  0  0  0  0  0  0  0\\n    1.1793    0.2264   -0.6472 C   0  0  0  0  0  0  0  0  0  0  0  0\\n    1.9655   -0.6478    0.2987 C   0  0  0  0  0  0  0  0  0  0  0  0\\n  1 11  1  0  0  0  0\\n  1 12  2  0  0  0  0\\n  1 13  2  0  0  0  0\\n  1 15  1  0  0  0  0\\n  2 14  1  0  0  0  0\\n  3 14  1  0  0  0  0\\n  4 15  1  0  0  0  0\\n  5 15  1  0  0  0  0\\n  6 16  1  0  0  0  0\\n  7 16  1  0  0  0  0\\n  8 17  1  0  0  0  0\\n  9 17  1  0  0  0  0\\n 10 17  1  0  0  0  0\\n 14 15  1  0  0  0  0\\n 14 16  1  0  0  0  0\\n 16 17  1  0  0  0  0\\nM  CHG  1  11  -1\\nM  END\\n'"
      ],
      "metadata": {
        "id": "P0GxrWPifTzI"
      },
      "execution_count": 12,
      "outputs": []
    },
    {
      "cell_type": "code",
      "source": [
        "print(the_mol_block)"
      ],
      "metadata": {
        "colab": {
          "base_uri": "https://localhost:8080/"
        },
        "id": "drpIuk-5fT3q",
        "outputId": "401e06ad-80f9-442e-97c8-d61f96360936"
      },
      "execution_count": 13,
      "outputs": [
        {
          "output_type": "stream",
          "name": "stdout",
          "text": [
            "3741048\n",
            "  -OEChem-02122422053D\n",
            "\n",
            " 17 16  0     0  0  0  0  0  0999 V2000\n",
            "   -2.1366   -0.7035   -0.3567 S   0  0  0  0  0  0  0  0  0  0  0  0\n",
            "   -0.4707    1.8316   -1.0186 F   0  0  0  0  0  0  0  0  0  0  0  0\n",
            "    0.5998    1.8991    0.8687 F   0  0  0  0  0  0  0  0  0  0  0  0\n",
            "   -0.6143   -0.3985    1.7062 F   0  0  0  0  0  0  0  0  0  0  0  0\n",
            "   -1.8799    1.2957    1.2314 F   0  0  0  0  0  0  0  0  0  0  0  0\n",
            "    0.7124   -0.5316   -1.6698 F   0  0  0  0  0  0  0  0  0  0  0  0\n",
            "    2.0552    1.1097   -1.2101 F   0  0  0  0  0  0  0  0  0  0  0  0\n",
            "    1.1709   -1.5602    0.8975 F   0  0  0  0  0  0  0  0  0  0  0  0\n",
            "    2.9607   -1.3092   -0.3238 F   0  0  0  0  0  0  0  0  0  0  0  0\n",
            "    2.5293    0.1037    1.2716 F   0  0  0  0  0  0  0  0  0  0  0  0\n",
            "   -1.2198   -1.7018   -0.9017 O   0  5  0  0  0  0  0  0  0  0  0  0\n",
            "   -3.1400   -1.2223    0.5693 O   0  0  0  0  0  0  0  0  0  0  0  0\n",
            "   -2.6583    0.2437   -1.3410 O   0  0  0  0  0  0  0  0  0  0  0  0\n",
            "    0.0474    1.0383   -0.0381 C   0  0  0  0  0  0  0  0  0  0  0  0\n",
            "   -1.1009    0.3266    0.6637 C   0  0  0  0  0  0  0  0  0  0  0  0\n",
            "    1.1793    0.2264   -0.6472 C   0  0  0  0  0  0  0  0  0  0  0  0\n",
            "    1.9655   -0.6478    0.2987 C   0  0  0  0  0  0  0  0  0  0  0  0\n",
            "  1 11  1  0  0  0  0\n",
            "  1 12  2  0  0  0  0\n",
            "  1 13  2  0  0  0  0\n",
            "  1 15  1  0  0  0  0\n",
            "  2 14  1  0  0  0  0\n",
            "  3 14  1  0  0  0  0\n",
            "  4 15  1  0  0  0  0\n",
            "  5 15  1  0  0  0  0\n",
            "  6 16  1  0  0  0  0\n",
            "  7 16  1  0  0  0  0\n",
            "  8 17  1  0  0  0  0\n",
            "  9 17  1  0  0  0  0\n",
            " 10 17  1  0  0  0  0\n",
            " 14 15  1  0  0  0  0\n",
            " 14 16  1  0  0  0  0\n",
            " 16 17  1  0  0  0  0\n",
            "M  CHG  1  11  -1\n",
            "M  END\n",
            "\n"
          ]
        }
      ]
    },
    {
      "cell_type": "code",
      "source": [
        "the_molecule = Chem.MolFromMolBlock(the_mol_block)\n",
        "the_molecule"
      ],
      "metadata": {
        "colab": {
          "base_uri": "https://localhost:8080/",
          "height": 167
        },
        "id": "32p4RFBCfT8c",
        "outputId": "173af857-05be-4543-c9f0-297779a665e7"
      },
      "execution_count": 15,
      "outputs": [
        {
          "output_type": "execute_result",
          "data": {
            "text/plain": [
              "<rdkit.Chem.rdchem.Mol at 0x7b562db3cc80>"
            ],
            "image/png": "[encoded data removed]"
          },
          "metadata": {},
          "execution_count": 15
        }
      ]
    },
    {
      "cell_type": "code",
      "source": [
        "CalcRadiusOfGyration(the_molecule)"
      ],
      "metadata": {
        "colab": {
          "base_uri": "https://localhost:8080/"
        },
        "id": "F9qS8G1fgYP4",
        "outputId": "5973b36a-6674-428b-8f1d-c223c24ab6db"
      },
      "execution_count": 16,
      "outputs": [
        {
          "output_type": "execute_result",
          "data": {
            "text/plain": [
              "2.382403056907247"
            ]
          },
          "metadata": {},
          "execution_count": 16
        }
      ]
    }
  ]
}