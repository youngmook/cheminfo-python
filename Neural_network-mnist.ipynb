{
 "cells": [
  {
   "cell_type": "code",
   "execution_count": 1,
   "id": "1188fe70",
   "metadata": {},
   "outputs": [
    {
     "data": {
      "text/plain": [
       "'2.3.0'"
      ]
     },
     "execution_count": 1,
     "metadata": {},
     "output_type": "execute_result"
    }
   ],
   "source": [
    "import tensorflow as tf\n",
    "import matplotlib.pyplot as plt\n",
    "import numpy as np\n",
    "\n",
    "tf.__version__"
   ]
  },
  {
   "cell_type": "code",
   "execution_count": 2,
   "id": "4c9b6e55",
   "metadata": {},
   "outputs": [],
   "source": [
    "mnist = tf.keras.datasets.mnist\n",
    "class_names = ['0', '1', '2', '3', '4', '5', '6', '7', '8', '9']"
   ]
  },
  {
   "cell_type": "code",
   "execution_count": 3,
   "id": "e39ec1cf",
   "metadata": {},
   "outputs": [],
   "source": [
    "(train_images, train_labels), (test_images, test_labels) = mnist.load_data()"
   ]
  },
  {
   "cell_type": "code",
   "execution_count": 13,
   "id": "c39ffacb",
   "metadata": {},
   "outputs": [
    {
     "data": {
      "text/plain": [
       "array([5, 0, 4, ..., 5, 6, 8], dtype=uint8)"
      ]
     },
     "execution_count": 13,
     "metadata": {},
     "output_type": "execute_result"
    }
   ],
   "source": [
    "train_labels"
   ]
  },
  {
   "cell_type": "code",
   "execution_count": 11,
   "id": "9bb4bf04",
   "metadata": {
    "scrolled": true
   },
   "outputs": [
    {
     "data": {
      "text/plain": [
       "array([[[0, 0, 0, ..., 0, 0, 0],\n",
       "        [0, 0, 0, ..., 0, 0, 0],\n",
       "        [0, 0, 0, ..., 0, 0, 0],\n",
       "        ...,\n",
       "        [0, 0, 0, ..., 0, 0, 0],\n",
       "        [0, 0, 0, ..., 0, 0, 0],\n",
       "        [0, 0, 0, ..., 0, 0, 0]],\n",
       "\n",
       "       [[0, 0, 0, ..., 0, 0, 0],\n",
       "        [0, 0, 0, ..., 0, 0, 0],\n",
       "        [0, 0, 0, ..., 0, 0, 0],\n",
       "        ...,\n",
       "        [0, 0, 0, ..., 0, 0, 0],\n",
       "        [0, 0, 0, ..., 0, 0, 0],\n",
       "        [0, 0, 0, ..., 0, 0, 0]],\n",
       "\n",
       "       [[0, 0, 0, ..., 0, 0, 0],\n",
       "        [0, 0, 0, ..., 0, 0, 0],\n",
       "        [0, 0, 0, ..., 0, 0, 0],\n",
       "        ...,\n",
       "        [0, 0, 0, ..., 0, 0, 0],\n",
       "        [0, 0, 0, ..., 0, 0, 0],\n",
       "        [0, 0, 0, ..., 0, 0, 0]],\n",
       "\n",
       "       ...,\n",
       "\n",
       "       [[0, 0, 0, ..., 0, 0, 0],\n",
       "        [0, 0, 0, ..., 0, 0, 0],\n",
       "        [0, 0, 0, ..., 0, 0, 0],\n",
       "        ...,\n",
       "        [0, 0, 0, ..., 0, 0, 0],\n",
       "        [0, 0, 0, ..., 0, 0, 0],\n",
       "        [0, 0, 0, ..., 0, 0, 0]],\n",
       "\n",
       "       [[0, 0, 0, ..., 0, 0, 0],\n",
       "        [0, 0, 0, ..., 0, 0, 0],\n",
       "        [0, 0, 0, ..., 0, 0, 0],\n",
       "        ...,\n",
       "        [0, 0, 0, ..., 0, 0, 0],\n",
       "        [0, 0, 0, ..., 0, 0, 0],\n",
       "        [0, 0, 0, ..., 0, 0, 0]],\n",
       "\n",
       "       [[0, 0, 0, ..., 0, 0, 0],\n",
       "        [0, 0, 0, ..., 0, 0, 0],\n",
       "        [0, 0, 0, ..., 0, 0, 0],\n",
       "        ...,\n",
       "        [0, 0, 0, ..., 0, 0, 0],\n",
       "        [0, 0, 0, ..., 0, 0, 0],\n",
       "        [0, 0, 0, ..., 0, 0, 0]]], dtype=uint8)"
      ]
     },
     "execution_count": 11,
     "metadata": {},
     "output_type": "execute_result"
    }
   ],
   "source": [
    "train_images"
   ]
  },
  {
   "cell_type": "code",
   "execution_count": 8,
   "id": "c1e57393",
   "metadata": {},
   "outputs": [
    {
     "data": {
      "text/plain": [
       "<matplotlib.image.AxesImage at 0x279c6d94a30>"
      ]
     },
     "execution_count": 8,
     "metadata": {},
     "output_type": "execute_result"
    },
    {
     "data": {
      "image/png": "[encoded data removed]",
      "text/plain": [
       "<Figure size 432x288 with 1 Axes>"
      ]
     },
     "metadata": {
      "needs_background": "light"
     },
     "output_type": "display_data"
    }
   ],
   "source": [
    "plt.imshow(test_images[2])"
   ]
  },
  {
   "cell_type": "code",
   "execution_count": 9,
   "id": "2befef59",
   "metadata": {},
   "outputs": [
    {
     "data": {
      "text/plain": [
       "1"
      ]
     },
     "execution_count": 9,
     "metadata": {},
     "output_type": "execute_result"
    }
   ],
   "source": [
    "test_labels[2]"
   ]
  },
  {
   "cell_type": "code",
   "execution_count": null,
   "id": "1030c178",
   "metadata": {},
   "outputs": [],
   "source": []
  },
  {
   "cell_type": "code",
   "execution_count": null,
   "id": "d3674e0e",
   "metadata": {},
   "outputs": [],
   "source": []
  },
  {
   "cell_type": "code",
   "execution_count": null,
   "id": "a821b630",
   "metadata": {},
   "outputs": [],
   "source": []
  },
  {
   "cell_type": "code",
   "execution_count": 14,
   "id": "0f59fdc4",
   "metadata": {},
   "outputs": [],
   "source": [
    "dataset = tf.data.Dataset.from_tensor_slices((train_images, train_labels)).batch(1000)"
   ]
  },
  {
   "cell_type": "code",
   "execution_count": 15,
   "id": "af82e381",
   "metadata": {},
   "outputs": [
    {
     "data": {
      "text/plain": [
       "<BatchDataset shapes: ((None, 28, 28), (None,)), types: (tf.uint8, tf.uint8)>"
      ]
     },
     "execution_count": 15,
     "metadata": {},
     "output_type": "execute_result"
    }
   ],
   "source": [
    "dataset"
   ]
  },
  {
   "cell_type": "code",
   "execution_count": 16,
   "id": "af29d638",
   "metadata": {},
   "outputs": [],
   "source": [
    "model1 = tf.keras.Sequential()\n",
    "model1.add(tf.keras.layers.Flatten())\n",
    "model1.add(tf.keras.layers.Dense(30, activation='relu'))\n",
    "model1.add(tf.keras.layers.Dense(10, activation='softmax'))"
   ]
  },
  {
   "cell_type": "code",
   "execution_count": 18,
   "id": "6eee0f6c",
   "metadata": {},
   "outputs": [],
   "source": [
    "class TestModel(tf.keras.Model):\n",
    "    def __init__(self, d1, d2, rate=0.1):\n",
    "        super(TestModel, self).__init__()\n",
    "    \n",
    "        self.flat = tf.keras.layers.Flatten()\n",
    "        self.dense = tf.keras.layers.Dense(d1, activation='relu')\n",
    "        self.final_layer = tf.keras.layers.Dense(d2, activation='softmax')\n",
    "    \n",
    "    def call(self, inp):\n",
    "        \n",
    "        output = self.flat(inp)\n",
    "        output = self.dense(output)\n",
    "        final_output = self.final_layer(output)\n",
    "    \n",
    "        return final_output"
   ]
  },
  {
   "cell_type": "code",
   "execution_count": 19,
   "id": "014177dc",
   "metadata": {},
   "outputs": [],
   "source": [
    "model2 = TestModel(30, 10)"
   ]
  },
  {
   "cell_type": "code",
   "execution_count": 43,
   "id": "a596f6d8",
   "metadata": {},
   "outputs": [],
   "source": [
    "learning_rate = 0.001\n",
    "optimizer = tf.keras.optimizers.Adam(learning_rate)"
   ]
  },
  {
   "cell_type": "code",
   "execution_count": 44,
   "id": "2aef9374",
   "metadata": {},
   "outputs": [],
   "source": [
    "loss_object = tf.keras.losses.SparseCategoricalCrossentropy() #from_logits=True"
   ]
  },
  {
   "cell_type": "code",
   "execution_count": 45,
   "id": "cf2ec5c4",
   "metadata": {
    "scrolled": false
   },
   "outputs": [
    {
     "name": "stdout",
     "output_type": "stream",
     "text": [
      "EPOCHS: 0\tLOSS: 0.3718\n",
      "EPOCHS: 1\tLOSS: 0.3373\n",
      "EPOCHS: 2\tLOSS: 0.3151\n"
     ]
    }
   ],
   "source": [
    "EPOCHS = 3\n",
    "for epoch in range(EPOCHS):\n",
    "    for images, labels in dataset :\n",
    "        with tf.GradientTape() as tape:\n",
    "            output = model1(images)\n",
    "            loss = loss_object(labels, output)\n",
    "        gradients = tape.gradient(loss, model1.trainable_variables)    \n",
    "        optimizer.apply_gradients(zip(gradients, model1.trainable_variables))\n",
    "    \n",
    "    print('EPOCHS: {}\\tLOSS: {:.4f}'.format(epoch, loss.numpy()))"
   ]
  },
  {
   "cell_type": "code",
   "execution_count": 31,
   "id": "81f1ac77",
   "metadata": {},
   "outputs": [],
   "source": [
    "dataset = tf.data.Dataset.from_tensor_slices((test_images, test_labels)).batch(10)"
   ]
  },
  {
   "cell_type": "code",
   "execution_count": 32,
   "id": "9e98b0d3",
   "metadata": {},
   "outputs": [
    {
     "data": {
      "text/plain": [
       "<tf.Tensor: shape=(3,), dtype=int32, numpy=array([10000,    28,    28])>"
      ]
     },
     "execution_count": 32,
     "metadata": {},
     "output_type": "execute_result"
    }
   ],
   "source": [
    "tf.shape(test_images)"
   ]
  },
  {
   "cell_type": "code",
   "execution_count": 48,
   "id": "6310bbc7",
   "metadata": {},
   "outputs": [],
   "source": [
    "accuracy = tf.keras.metrics.SparseCategoricalAccuracy()\n",
    "for images, labels in testset :\n",
    "    output = model1(images)\n",
    "    accuracy.update_state(labels, output)"
   ]
  },
  {
   "cell_type": "code",
   "execution_count": 49,
   "id": "9cd8b4a6",
   "metadata": {},
   "outputs": [
    {
     "data": {
      "text/plain": [
       "<tf.Tensor: shape=(), dtype=float32, numpy=0.887>"
      ]
     },
     "execution_count": 49,
     "metadata": {},
     "output_type": "execute_result"
    }
   ],
   "source": [
    "accuracy.result()"
   ]
  },
  {
   "cell_type": "code",
   "execution_count": 20,
   "id": "85b8489d",
   "metadata": {},
   "outputs": [],
   "source": [
    "model1.compile(loss='sparse_categorical_crossentropy', optimizer='adam', metrics=['accuracy'])"
   ]
  },
  {
   "cell_type": "code",
   "execution_count": 21,
   "id": "268b8f92",
   "metadata": {},
   "outputs": [
    {
     "name": "stdout",
     "output_type": "stream",
     "text": [
      "Epoch 1/10\n",
      "60/60 [==============================] - 0s 5ms/step - loss: 17.5256 - accuracy: 0.4419\n",
      "Epoch 2/10\n",
      "60/60 [==============================] - 0s 4ms/step - loss: 1.7268 - accuracy: 0.4981\n",
      "Epoch 3/10\n",
      "60/60 [==============================] - 0s 4ms/step - loss: 1.3963 - accuracy: 0.6235\n",
      "Epoch 4/10\n",
      "60/60 [==============================] - 0s 4ms/step - loss: 1.1905 - accuracy: 0.6879\n",
      "Epoch 5/10\n",
      "60/60 [==============================] - 0s 4ms/step - loss: 1.0396 - accuracy: 0.7268\n",
      "Epoch 6/10\n",
      "60/60 [==============================] - 0s 4ms/step - loss: 0.9266 - accuracy: 0.7580\n",
      "Epoch 7/10\n",
      "60/60 [==============================] - 0s 4ms/step - loss: 0.8397 - accuracy: 0.7830\n",
      "Epoch 8/10\n",
      "60/60 [==============================] - 0s 4ms/step - loss: 0.7707 - accuracy: 0.7997\n",
      "Epoch 9/10\n",
      "60/60 [==============================] - 0s 4ms/step - loss: 0.7150 - accuracy: 0.8152\n",
      "Epoch 10/10\n",
      "60/60 [==============================] - 0s 4ms/step - loss: 0.6680 - accuracy: 0.8278\n"
     ]
    },
    {
     "data": {
      "text/plain": [
       "<tensorflow.python.keras.callbacks.History at 0x279c6db72e0>"
      ]
     },
     "execution_count": 21,
     "metadata": {},
     "output_type": "execute_result"
    }
   ],
   "source": [
    "model1.fit(dataset, epochs=10)"
   ]
  },
  {
   "cell_type": "code",
   "execution_count": 22,
   "id": "8c86d6bb",
   "metadata": {},
   "outputs": [],
   "source": [
    "model2.compile(loss='sparse_categorical_crossentropy', optimizer='adam', metrics=['accuracy'])"
   ]
  },
  {
   "cell_type": "code",
   "execution_count": 25,
   "id": "0483a10a",
   "metadata": {},
   "outputs": [
    {
     "name": "stdout",
     "output_type": "stream",
     "text": [
      "Epoch 1/10\n",
      "60/60 [==============================] - 0s 4ms/step - loss: 0.4596 - accuracy: 0.8733\n",
      "Epoch 2/10\n",
      "60/60 [==============================] - 0s 4ms/step - loss: 0.4460 - accuracy: 0.8766\n",
      "Epoch 3/10\n",
      "60/60 [==============================] - 0s 4ms/step - loss: 0.4295 - accuracy: 0.8795\n",
      "Epoch 4/10\n",
      "60/60 [==============================] - 0s 4ms/step - loss: 0.4145 - accuracy: 0.8825\n",
      "Epoch 5/10\n",
      "60/60 [==============================] - 0s 4ms/step - loss: 0.4008 - accuracy: 0.8852\n",
      "Epoch 6/10\n",
      "60/60 [==============================] - 0s 4ms/step - loss: 0.3877 - accuracy: 0.8886\n",
      "Epoch 7/10\n",
      "60/60 [==============================] - 0s 4ms/step - loss: 0.3744 - accuracy: 0.8910\n",
      "Epoch 8/10\n",
      "60/60 [==============================] - 0s 4ms/step - loss: 0.3637 - accuracy: 0.8937\n",
      "Epoch 9/10\n",
      "60/60 [==============================] - 0s 4ms/step - loss: 0.3547 - accuracy: 0.8960\n",
      "Epoch 10/10\n",
      "60/60 [==============================] - 0s 4ms/step - loss: 0.3445 - accuracy: 0.8984\n"
     ]
    },
    {
     "data": {
      "text/plain": [
       "<tensorflow.python.keras.callbacks.History at 0x279c311a8e0>"
      ]
     },
     "execution_count": 25,
     "metadata": {},
     "output_type": "execute_result"
    }
   ],
   "source": [
    "model2.fit(dataset, epochs=10)"
   ]
  },
  {
   "cell_type": "code",
   "execution_count": 28,
   "id": "97c4d4f2",
   "metadata": {},
   "outputs": [
    {
     "name": "stdout",
     "output_type": "stream",
     "text": [
      "60/60 [==============================] - 0s 5ms/step - loss: 0.3388 - accuracy: 0.8990\n"
     ]
    },
    {
     "data": {
      "text/plain": [
       "[0.33880218863487244, 0.8989999890327454]"
      ]
     },
     "execution_count": 28,
     "metadata": {},
     "output_type": "execute_result"
    }
   ],
   "source": [
    "model2.evaluate(dataset)"
   ]
  },
  {
   "cell_type": "code",
   "execution_count": 29,
   "id": "b94a5f92",
   "metadata": {},
   "outputs": [],
   "source": [
    "testset = tf.data.Dataset.from_tensor_slices((test_images, test_labels)).batch(1000)"
   ]
  },
  {
   "cell_type": "code",
   "execution_count": 30,
   "id": "9cae9a63",
   "metadata": {},
   "outputs": [
    {
     "name": "stdout",
     "output_type": "stream",
     "text": [
      "10/10 [==============================] - 0s 5ms/step - loss: 0.4257 - accuracy: 0.8909\n"
     ]
    },
    {
     "data": {
      "text/plain": [
       "[0.4257272481918335, 0.8909000158309937]"
      ]
     },
     "execution_count": 30,
     "metadata": {},
     "output_type": "execute_result"
    }
   ],
   "source": [
    "model2.evaluate(testset)"
   ]
  },
  {
   "cell_type": "code",
   "execution_count": 40,
   "id": "de1c08ae",
   "metadata": {},
   "outputs": [
    {
     "data": {
      "text/plain": [
       "TensorShape([1, 28, 28])"
      ]
     },
     "execution_count": 40,
     "metadata": {},
     "output_type": "execute_result"
    }
   ],
   "source": [
    "test = tf.expand_dims(test_images[2], 0)\n",
    "test.shape"
   ]
  },
  {
   "cell_type": "code",
   "execution_count": 41,
   "id": "4421e71c",
   "metadata": {},
   "outputs": [
    {
     "name": "stdout",
     "output_type": "stream",
     "text": [
      "tf.Tensor(\n",
      "[[2.6229646e-14 9.9999881e-01 2.8866757e-14 4.2126339e-19 2.0462688e-14\n",
      "  9.2400211e-07 1.3016066e-09 2.6018540e-13 2.0456361e-07 2.3519306e-08]], shape=(1, 10), dtype=float32)\n",
      "tf.Tensor([1], shape=(1,), dtype=int64)\n"
     ]
    }
   ],
   "source": [
    "test = tf.expand_dims(test_images[2], 0)\n",
    "result = model2(test)\n",
    "print(result)\n",
    "result = tf.argmax(result, axis=-1)\n",
    "print(result)"
   ]
  },
  {
   "cell_type": "code",
   "execution_count": 34,
   "id": "a4f98804",
   "metadata": {},
   "outputs": [
    {
     "data": {
      "text/plain": [
       "<matplotlib.image.AxesImage at 0x279ca2cf3a0>"
      ]
     },
     "execution_count": 34,
     "metadata": {},
     "output_type": "execute_result"
    },
    {
     "data": {
      "image/png": "[encoded data removed]",
      "text/plain": [
       "<Figure size 432x288 with 1 Axes>"
      ]
     },
     "metadata": {
      "needs_background": "light"
     },
     "output_type": "display_data"
    }
   ],
   "source": [
    "plt.imshow(test_images[2])"
   ]
  },
  {
   "cell_type": "code",
   "execution_count": null,
   "id": "dfb9f63c",
   "metadata": {},
   "outputs": [],
   "source": []
  }
 ],
 "metadata": {
  "kernelspec": {
   "display_name": "Python 3 (ipykernel)",
   "language": "python",
   "name": "python3"
  },
  "language_info": {
   "codemirror_mode": {
    "name": "ipython",
    "version": 3
   },
   "file_extension": ".py",
   "mimetype": "text/x-python",
   "name": "python",
   "nbconvert_exporter": "python",
   "pygments_lexer": "ipython3",
   "version": "3.8.13"
  }
 },
 "nbformat": 4,
 "nbformat_minor": 5
}
